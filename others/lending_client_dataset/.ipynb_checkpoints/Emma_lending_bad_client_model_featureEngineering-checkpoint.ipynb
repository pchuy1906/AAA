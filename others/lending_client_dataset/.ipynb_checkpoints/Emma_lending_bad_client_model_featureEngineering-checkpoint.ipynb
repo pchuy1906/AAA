{
 "cells": [
  {
   "cell_type": "markdown",
   "metadata": {},
   "source": [
    "# Summary\n",
    "\n",
    "\n",
    "## The goal\n",
    "\n",
    "The primary goal is to build a model to predict a client's propensity to default on loan.\n",
    "\n",
    "\n",
    "## The data\n",
    "\n",
    "The original 3342-row dataset has 18 columns, including:\n",
    "- 1 unnamed,\n",
    "- 1 for class labels `tag_in_six_months`,  \n",
    "- 1 for prediction by a CompanyX model  `future_bad_probability`, \n",
    "- 15 remaining with info about clients can be possibly used for model building.  \n",
    "\n",
    "\n",
    "## Plan\n",
    "- Check the data quality for data type, missing data, outlier.\n",
    "- Data preprocessing and visualization/statistics.\n",
    "- Model building.\n",
    "- Model evaluation and comparison with the CompanyX model.\n",
    "\n",
    "\n",
    "## Key findings\n",
    "\n",
    "For detailed discussion on my choices at every step, see the detailed analysis session. Below is a brief summary.\n",
    "\n",
    "* Data quality.\n",
    "\n",
    "    - There are duplicates in `client_id` meaning for returning clients. 78 clients have a second record at a different date. Only newest records are kept. \n",
    "\n",
    "    - `credit_score` and `external score` contain strange values: being negative and/or extremely large. The (400) clients with these strange `external score` values mostly don't have records for `credit_score`.\n",
    "\n",
    "    - More than 40% values missing in `max_successful_repayments`.\n",
    "    \n",
    "    - Missing values for `sum_failed_repayments ` and `max_failed_repayments` happen for the same set of clients.\n",
    "\n",
    "\n",
    "* Various techniques have been used to clean/impute the dataset. Finally, a clean dataset with 2855 rows and 10 input features (plus 1 target variable) is used for modeling. \n",
    "\n",
    "\n",
    "* Model building. For a quick implementation, I use a simple 5-max-depth random forest model to train on 80% of the dataset and then evaluate and compare on the remain 20% data the trained model to the result from the current CompanyX model provided.\n",
    "\n",
    "\n",
    "* Model evaluation. The metrics for evaluation include the precision-recall curve and its associated area-under-the-curve score as the dataset is unbalanced and my priority is to focus on predicting the positive class. The ROC and area-under-the-ROC curve AUC are also provided for comparison. \n",
    "\n",
    "    - For the precision-recall curve, the random forest model has been able to reach an AUC score of 0.82 compared to 0.89 by the CompanyX model.\n",
    "\n",
    "    - For ROC curve, the random forest model gives an AUC of 0.92 compared to 0.97 by the CompanyX model.\n",
    "\n",
    "\n",
    "- Key predictive indicators from correlation analysis and from the random forest model includes: `sum_failed_repayments`, `available_credit`, `recent_successful_repayments`, `credit_inquiries_count`, `client_industry_unknown`.\n",
    "\n",
    "\n",
    "\n",
    "## Future work\n",
    "- Fine tuning model selection by doing hyperparameter search with a cross validation scheme. Try more advanced models to see if the performance is improved.\n",
    "\n",
    "\n",
    "- Error analysis: find common patterns among clients that are misclassified by the model to have more information how to improve the model performance.\n",
    "\n",
    "\n",
    "- Feature engineering.\n",
    "\n"
   ]
  },
  {
   "cell_type": "code",
   "execution_count": 1,
   "metadata": {
    "collapsed": true
   },
   "outputs": [],
   "source": [
    "import pandas as pd\n",
    "import numpy as np\n",
    "import matplotlib\n",
    "import matplotlib.pyplot as plt\n",
    "import seaborn as sns\n",
    "%matplotlib inline\n",
    "\n",
    "np.random.seed(2018)  # for reproducibility"
   ]
  },
  {
   "cell_type": "markdown",
   "metadata": {},
   "source": [
    "# Detailed analysis"
   ]
  },
  {
   "cell_type": "markdown",
   "metadata": {},
   "source": [
    "## Data loading and overview"
   ]
  },
  {
   "cell_type": "code",
   "execution_count": 2,
   "metadata": {},
   "outputs": [
    {
     "name": "stdout",
     "output_type": "stream",
     "text": [
      "lending_bad_client_dataset.csv\r\n"
     ]
    }
   ],
   "source": [
    "!ls ./data"
   ]
  },
  {
   "cell_type": "code",
   "execution_count": 3,
   "metadata": {},
   "outputs": [
    {
     "name": "stdout",
     "output_type": "stream",
     "text": [
      "Shape of the original dataset  (3342, 18)\n"
     ]
    },
    {
     "data": {
      "text/html": [
       "<div>\n",
       "<style scoped>\n",
       "    .dataframe tbody tr th:only-of-type {\n",
       "        vertical-align: middle;\n",
       "    }\n",
       "\n",
       "    .dataframe tbody tr th {\n",
       "        vertical-align: top;\n",
       "    }\n",
       "\n",
       "    .dataframe thead th {\n",
       "        text-align: right;\n",
       "    }\n",
       "</style>\n",
       "<table border=\"1\" class=\"dataframe\">\n",
       "  <thead>\n",
       "    <tr style=\"text-align: right;\">\n",
       "      <th></th>\n",
       "      <th>Unnamed: 0</th>\n",
       "      <th>client_id</th>\n",
       "      <th>pit</th>\n",
       "      <th>recent_successful_repayments</th>\n",
       "      <th>future_bad_probability</th>\n",
       "      <th>available_credit</th>\n",
       "      <th>balance</th>\n",
       "      <th>sum_failed_repayments</th>\n",
       "      <th>max_failed_repayments</th>\n",
       "      <th>credit_score</th>\n",
       "      <th>external score</th>\n",
       "      <th>credit_inquiries_count</th>\n",
       "      <th>credit_open_balance</th>\n",
       "      <th>years_on_file</th>\n",
       "      <th>max_successful_repayments</th>\n",
       "      <th>missing_report</th>\n",
       "      <th>client_industry_unknown</th>\n",
       "      <th>tag_in_six_months</th>\n",
       "    </tr>\n",
       "  </thead>\n",
       "  <tbody>\n",
       "    <tr>\n",
       "      <th>0</th>\n",
       "      <td>1</td>\n",
       "      <td>10857</td>\n",
       "      <td>7/8/17</td>\n",
       "      <td>7267.064596</td>\n",
       "      <td>0.948553</td>\n",
       "      <td>2224.550794</td>\n",
       "      <td>7675.651539</td>\n",
       "      <td>335.790581</td>\n",
       "      <td>330.416817</td>\n",
       "      <td>685.0</td>\n",
       "      <td>993.5</td>\n",
       "      <td>7.0</td>\n",
       "      <td>29835.0</td>\n",
       "      <td>between 0.5 and 1 years</td>\n",
       "      <td>0.0</td>\n",
       "      <td>0</td>\n",
       "      <td>0</td>\n",
       "      <td>bad</td>\n",
       "    </tr>\n",
       "    <tr>\n",
       "      <th>1</th>\n",
       "      <td>5</td>\n",
       "      <td>14108</td>\n",
       "      <td>27/08/2017</td>\n",
       "      <td>-24.261807</td>\n",
       "      <td>0.913876</td>\n",
       "      <td>-176.241705</td>\n",
       "      <td>6159.636587</td>\n",
       "      <td>1036.432068</td>\n",
       "      <td>261.618821</td>\n",
       "      <td>768.0</td>\n",
       "      <td>1118.0</td>\n",
       "      <td>16.0</td>\n",
       "      <td>393824.0</td>\n",
       "      <td>between 5 and 6 years</td>\n",
       "      <td>0.0</td>\n",
       "      <td>0</td>\n",
       "      <td>1</td>\n",
       "      <td>bad</td>\n",
       "    </tr>\n",
       "    <tr>\n",
       "      <th>2</th>\n",
       "      <td>8</td>\n",
       "      <td>12019</td>\n",
       "      <td>25/07/2017</td>\n",
       "      <td>23799.444140</td>\n",
       "      <td>0.895160</td>\n",
       "      <td>30614.475400</td>\n",
       "      <td>17586.950490</td>\n",
       "      <td>1679.119093</td>\n",
       "      <td>628.316313</td>\n",
       "      <td>713.0</td>\n",
       "      <td>1035.5</td>\n",
       "      <td>8.0</td>\n",
       "      <td>419783.0</td>\n",
       "      <td>between 3 and 5 years</td>\n",
       "      <td>2.0</td>\n",
       "      <td>0</td>\n",
       "      <td>0</td>\n",
       "      <td>bad</td>\n",
       "    </tr>\n",
       "    <tr>\n",
       "      <th>3</th>\n",
       "      <td>10</td>\n",
       "      <td>2647</td>\n",
       "      <td>26/03/2017</td>\n",
       "      <td>17052.245390</td>\n",
       "      <td>0.866898</td>\n",
       "      <td>443.083235</td>\n",
       "      <td>18855.047720</td>\n",
       "      <td>0.000000</td>\n",
       "      <td>0.000000</td>\n",
       "      <td>662.0</td>\n",
       "      <td>959.0</td>\n",
       "      <td>3.0</td>\n",
       "      <td>212813.0</td>\n",
       "      <td>between 1.5 and 2 years</td>\n",
       "      <td>NaN</td>\n",
       "      <td>0</td>\n",
       "      <td>0</td>\n",
       "      <td>bad</td>\n",
       "    </tr>\n",
       "    <tr>\n",
       "      <th>4</th>\n",
       "      <td>11</td>\n",
       "      <td>15281</td>\n",
       "      <td>8/5/17</td>\n",
       "      <td>-9.609538</td>\n",
       "      <td>0.861520</td>\n",
       "      <td>-4537.729415</td>\n",
       "      <td>19660.129670</td>\n",
       "      <td>2365.986493</td>\n",
       "      <td>873.598775</td>\n",
       "      <td>660.0</td>\n",
       "      <td>956.0</td>\n",
       "      <td>13.0</td>\n",
       "      <td>50356.0</td>\n",
       "      <td>between 2 and 2.5 years</td>\n",
       "      <td>NaN</td>\n",
       "      <td>0</td>\n",
       "      <td>0</td>\n",
       "      <td>bad</td>\n",
       "    </tr>\n",
       "  </tbody>\n",
       "</table>\n",
       "</div>"
      ],
      "text/plain": [
       "   Unnamed: 0  client_id         pit  recent_successful_repayments  \\\n",
       "0           1      10857      7/8/17                   7267.064596   \n",
       "1           5      14108  27/08/2017                    -24.261807   \n",
       "2           8      12019  25/07/2017                  23799.444140   \n",
       "3          10       2647  26/03/2017                  17052.245390   \n",
       "4          11      15281      8/5/17                     -9.609538   \n",
       "\n",
       "   future_bad_probability  available_credit       balance  \\\n",
       "0                0.948553       2224.550794   7675.651539   \n",
       "1                0.913876       -176.241705   6159.636587   \n",
       "2                0.895160      30614.475400  17586.950490   \n",
       "3                0.866898        443.083235  18855.047720   \n",
       "4                0.861520      -4537.729415  19660.129670   \n",
       "\n",
       "   sum_failed_repayments   max_failed_repayments  credit_score  \\\n",
       "0              335.790581             330.416817         685.0   \n",
       "1             1036.432068             261.618821         768.0   \n",
       "2             1679.119093             628.316313         713.0   \n",
       "3                0.000000               0.000000         662.0   \n",
       "4             2365.986493             873.598775         660.0   \n",
       "\n",
       "   external score  credit_inquiries_count  credit_open_balance  \\\n",
       "0           993.5                     7.0              29835.0   \n",
       "1          1118.0                    16.0             393824.0   \n",
       "2          1035.5                     8.0             419783.0   \n",
       "3           959.0                     3.0             212813.0   \n",
       "4           956.0                    13.0              50356.0   \n",
       "\n",
       "             years_on_file  max_successful_repayments  missing_report  \\\n",
       "0  between 0.5 and 1 years                        0.0               0   \n",
       "1    between 5 and 6 years                        0.0               0   \n",
       "2    between 3 and 5 years                        2.0               0   \n",
       "3  between 1.5 and 2 years                        NaN               0   \n",
       "4  between 2 and 2.5 years                        NaN               0   \n",
       "\n",
       "   client_industry_unknown tag_in_six_months  \n",
       "0                        0               bad  \n",
       "1                        1               bad  \n",
       "2                        0               bad  \n",
       "3                        0               bad  \n",
       "4                        0               bad  "
      ]
     },
     "execution_count": 3,
     "metadata": {},
     "output_type": "execute_result"
    }
   ],
   "source": [
    "# load data from csv file\n",
    "data_orig = pd.read_csv('./data/lending_bad_client_dataset.csv', header=0)\n",
    "print('Shape of the original dataset ', data_orig.shape)\n",
    "data_orig.head()"
   ]
  },
  {
   "cell_type": "code",
   "execution_count": 4,
   "metadata": {},
   "outputs": [
    {
     "name": "stdout",
     "output_type": "stream",
     "text": [
      "<class 'pandas.core.frame.DataFrame'>\n",
      "RangeIndex: 3342 entries, 0 to 3341\n",
      "Data columns (total 18 columns):\n",
      "Unnamed: 0                      3342 non-null int64\n",
      "client_id                       3342 non-null int64\n",
      "pit                             3342 non-null object\n",
      "recent_successful_repayments    3340 non-null float64\n",
      "future_bad_probability          3342 non-null float64\n",
      "available_credit                3302 non-null float64\n",
      "balance                         3312 non-null float64\n",
      "sum_failed_repayments           3313 non-null float64\n",
      "max_failed_repayments           3313 non-null float64\n",
      "credit_score                    2932 non-null float64\n",
      "external score                  3342 non-null float64\n",
      "credit_inquiries_count          2921 non-null float64\n",
      "credit_open_balance             2905 non-null float64\n",
      "years_on_file                   2733 non-null object\n",
      "max_successful_repayments       1967 non-null float64\n",
      "missing_report                  3342 non-null int64\n",
      "client_industry_unknown         3342 non-null int64\n",
      "tag_in_six_months               3342 non-null object\n",
      "dtypes: float64(11), int64(4), object(3)\n",
      "memory usage: 470.0+ KB\n"
     ]
    }
   ],
   "source": [
    "# number of rows with non-null values for each columns, data types\n",
    "data_orig.info()"
   ]
  },
  {
   "cell_type": "markdown",
   "metadata": {},
   "source": [
    "## Data visualization and cleaning/preprocessing"
   ]
  },
  {
   "cell_type": "markdown",
   "metadata": {},
   "source": [
    "### Data types \n",
    "\n",
    "There are 3 categorical features, `missing_report`, `client_industry_unknown`, and `years_on_file`, among which the first two are in a numerical form already. \n",
    "\n",
    "For a numerical representation of `years_on_file` feature, I map its 18 values to indexes from 0 to 17. \n"
   ]
  },
  {
   "cell_type": "code",
   "execution_count": 5,
   "metadata": {
    "collapsed": true,
    "scrolled": true
   },
   "outputs": [],
   "source": [
    "# copy to new dataframe to be modified later\n",
    "data = data_orig[data_orig.columns[1:]].copy(deep = True)"
   ]
  },
  {
   "cell_type": "code",
   "execution_count": 6,
   "metadata": {
    "collapsed": true
   },
   "outputs": [],
   "source": [
    "# datetime data type\n",
    "data['pit'] = pd.to_datetime(data['pit'])"
   ]
  },
  {
   "cell_type": "code",
   "execution_count": 7,
   "metadata": {},
   "outputs": [
    {
     "name": "stdout",
     "output_type": "stream",
     "text": [
      "17 [0.5, 1.0, 1.5, 2.0, 2.5, 3.0, 5.0, 6.0, 8.0, 10.0, 12.0, 14.0, 17.0, 20.0, 25.0, 30.0, 35.0]\n"
     ]
    }
   ],
   "source": [
    "# Mapping `years_on_file` values into indexes based on year period: getting years\n",
    "nb_year_list = []\n",
    "for item in data['years_on_file'].value_counts().index:\n",
    "    word_list = item.split()\n",
    "    if len(word_list) == 5:\n",
    "        nb_year_list.append(word_list[1])\n",
    "        nb_year_list.append(word_list[3])\n",
    "    else:\n",
    "        nb_year_list.append(word_list[2])\n",
    "\n",
    "nb_year_list = [float(i) for i in nb_year_list]\n",
    "nb_year_list = list(set(nb_year_list))\n",
    "nb_year_list.sort()\n",
    "print(len(nb_year_list), nb_year_list)                                                           "
   ]
  },
  {
   "cell_type": "code",
   "execution_count": 8,
   "metadata": {
    "collapsed": true
   },
   "outputs": [],
   "source": [
    "# Mapping `years_on_file` values into indexes based on year period: \n",
    "# replacing 'year_on_file' value with index from 0 - 17\n",
    "mapping_years_on_file = {}\n",
    "mapping_years_on_file['less than 0.5 year'] = 0\n",
    "for item in data['years_on_file'].value_counts().index:\n",
    "    word_list = item.split()\n",
    "    if len(word_list) == 5:\n",
    "        mapping_years_on_file[item] = 1 + nb_year_list.index(float(word_list[1]))\n",
    "mapping_years_on_file['more than 35 years'] = len(nb_year_list)\n",
    "\n",
    "data['years_on_file'].replace(mapping_years_on_file, inplace = True)"
   ]
  },
  {
   "cell_type": "code",
   "execution_count": 9,
   "metadata": {},
   "outputs": [
    {
     "data": {
      "text/plain": [
       "{'between 0.5 and 1 years': 1,\n",
       " 'between 1 and 1.5 years': 2,\n",
       " 'between 1.5 and 2 years': 3,\n",
       " 'between 10 and 12 years': 10,\n",
       " 'between 12 and 14 years': 11,\n",
       " 'between 14 and 17 years': 12,\n",
       " 'between 17 and 20 years': 13,\n",
       " 'between 2 and 2.5 years': 4,\n",
       " 'between 2.5 and 3 years': 5,\n",
       " 'between 20 and 25 years': 14,\n",
       " 'between 25 and 30 years': 15,\n",
       " 'between 3 and 5 years': 6,\n",
       " 'between 30 and 35 years': 16,\n",
       " 'between 5 and 6 years': 7,\n",
       " 'between 6 and 8 years': 8,\n",
       " 'between 8 and 10 years': 9,\n",
       " 'less than 0.5 year': 0,\n",
       " 'more than 35 years': 17}"
      ]
     },
     "execution_count": 9,
     "metadata": {},
     "output_type": "execute_result"
    }
   ],
   "source": [
    "mapping_years_on_file"
   ]
  },
  {
   "cell_type": "markdown",
   "metadata": {},
   "source": [
    "\n",
    "\n",
    "### Duplicates\n",
    "\n",
    "There is no duplicate in the dataset. \n",
    "\n",
    "However, there are duplicates in `client_id` - might be returning clients. Checking further, I see that 78 clients have a second record in the dataset at a different point in time `pit`. The two records for some clients are not entirely consistent. An example is client_id = 1767: the first record on 2017-04-02 says `year_on_file` is between 1.5 and 2 years, but the second record on 2017-04-29, just 27 days after the first, reports `year_on_file` is between 3 and 5 years, a year difference to the first. \n",
    "\n",
    "I would definitely discuss this issue with the engineering and/or other teams to see weather there were errors during data collecting pipeline or in some data sources.\n",
    "\n",
    "For now, I decide to delete the duplicate version such that there's only one record with the newest record based on `pit` for each client_ids. This step helps to decorrelate the dataset for the modeling step later. \n",
    "\n",
    "\n"
   ]
  },
  {
   "cell_type": "code",
   "execution_count": 10,
   "metadata": {},
   "outputs": [
    {
     "data": {
      "text/plain": [
       "Int64Index([], dtype='int64')"
      ]
     },
     "execution_count": 10,
     "metadata": {},
     "output_type": "execute_result"
    }
   ],
   "source": [
    "# check for duplicates\n",
    "data[data.duplicated(keep=False)].index"
   ]
  },
  {
   "cell_type": "code",
   "execution_count": 11,
   "metadata": {
    "scrolled": true
   },
   "outputs": [
    {
     "name": "stdout",
     "output_type": "stream",
     "text": [
      "Number of duplicates, including the originals, in client_ids 156\n",
      "Number of unique client_ids among duplicates 78\n"
     ]
    }
   ],
   "source": [
    "# check for duplicates in client_id\n",
    "print('Number of duplicates, including the originals, in client_ids',\\\n",
    "      data[data.duplicated(subset=['client_id'],keep=False)].shape[0])\n",
    "print('Number of unique client_ids among duplicates',\\\n",
    "      len(data[data.duplicated(subset=['client_id'],keep=False)].client_id.unique()))"
   ]
  },
  {
   "cell_type": "code",
   "execution_count": 12,
   "metadata": {},
   "outputs": [
    {
     "data": {
      "text/plain": [
       "6070     2\n",
       "3000     2\n",
       "20409    2\n",
       "23921    2\n",
       "1539     2\n",
       "Name: client_id, dtype: int64"
      ]
     },
     "execution_count": 12,
     "metadata": {},
     "output_type": "execute_result"
    }
   ],
   "source": [
    "# check number of duplicate for each client_id\n",
    "data[data.duplicated(subset=['client_id'],keep=False)].client_id.value_counts().tail()"
   ]
  },
  {
   "cell_type": "code",
   "execution_count": 13,
   "metadata": {},
   "outputs": [
    {
     "data": {
      "text/html": [
       "<div>\n",
       "<style scoped>\n",
       "    .dataframe tbody tr th:only-of-type {\n",
       "        vertical-align: middle;\n",
       "    }\n",
       "\n",
       "    .dataframe tbody tr th {\n",
       "        vertical-align: top;\n",
       "    }\n",
       "\n",
       "    .dataframe thead th {\n",
       "        text-align: right;\n",
       "    }\n",
       "</style>\n",
       "<table border=\"1\" class=\"dataframe\">\n",
       "  <thead>\n",
       "    <tr style=\"text-align: right;\">\n",
       "      <th></th>\n",
       "      <th>client_id</th>\n",
       "      <th>pit</th>\n",
       "      <th>recent_successful_repayments</th>\n",
       "      <th>future_bad_probability</th>\n",
       "      <th>available_credit</th>\n",
       "      <th>balance</th>\n",
       "      <th>sum_failed_repayments</th>\n",
       "      <th>max_failed_repayments</th>\n",
       "      <th>credit_score</th>\n",
       "      <th>external score</th>\n",
       "      <th>credit_inquiries_count</th>\n",
       "      <th>credit_open_balance</th>\n",
       "      <th>years_on_file</th>\n",
       "      <th>max_successful_repayments</th>\n",
       "      <th>missing_report</th>\n",
       "      <th>client_industry_unknown</th>\n",
       "      <th>tag_in_six_months</th>\n",
       "    </tr>\n",
       "  </thead>\n",
       "  <tbody>\n",
       "    <tr>\n",
       "      <th>75</th>\n",
       "      <td>1767</td>\n",
       "      <td>2017-04-02</td>\n",
       "      <td>5259.783245</td>\n",
       "      <td>0.706293</td>\n",
       "      <td>5627.930188</td>\n",
       "      <td>4400.538736</td>\n",
       "      <td>2777.732543</td>\n",
       "      <td>373.809135</td>\n",
       "      <td>706.0</td>\n",
       "      <td>1025.0</td>\n",
       "      <td>12.0</td>\n",
       "      <td>8814.0</td>\n",
       "      <td>3.0</td>\n",
       "      <td>6.0</td>\n",
       "      <td>0</td>\n",
       "      <td>0</td>\n",
       "      <td>bad</td>\n",
       "    </tr>\n",
       "    <tr>\n",
       "      <th>3031</th>\n",
       "      <td>1767</td>\n",
       "      <td>2017-04-29</td>\n",
       "      <td>15120.557790</td>\n",
       "      <td>0.007143</td>\n",
       "      <td>8568.608873</td>\n",
       "      <td>11810.150800</td>\n",
       "      <td>761.226674</td>\n",
       "      <td>316.774024</td>\n",
       "      <td>608.0</td>\n",
       "      <td>878.0</td>\n",
       "      <td>26.0</td>\n",
       "      <td>142758.0</td>\n",
       "      <td>6.0</td>\n",
       "      <td>10.0</td>\n",
       "      <td>0</td>\n",
       "      <td>0</td>\n",
       "      <td>good</td>\n",
       "    </tr>\n",
       "  </tbody>\n",
       "</table>\n",
       "</div>"
      ],
      "text/plain": [
       "      client_id        pit  recent_successful_repayments  \\\n",
       "75         1767 2017-04-02                   5259.783245   \n",
       "3031       1767 2017-04-29                  15120.557790   \n",
       "\n",
       "      future_bad_probability  available_credit       balance  \\\n",
       "75                  0.706293       5627.930188   4400.538736   \n",
       "3031                0.007143       8568.608873  11810.150800   \n",
       "\n",
       "      sum_failed_repayments   max_failed_repayments  credit_score  \\\n",
       "75               2777.732543             373.809135         706.0   \n",
       "3031              761.226674             316.774024         608.0   \n",
       "\n",
       "      external score  credit_inquiries_count  credit_open_balance  \\\n",
       "75            1025.0                    12.0               8814.0   \n",
       "3031           878.0                    26.0             142758.0   \n",
       "\n",
       "      years_on_file  max_successful_repayments  missing_report  \\\n",
       "75              3.0                        6.0               0   \n",
       "3031            6.0                       10.0               0   \n",
       "\n",
       "      client_industry_unknown tag_in_six_months  \n",
       "75                          0               bad  \n",
       "3031                        0              good  "
      ]
     },
     "execution_count": 13,
     "metadata": {},
     "output_type": "execute_result"
    }
   ],
   "source": [
    "# check for one client as an example. Seems like a returning client. \n",
    "data[data.client_id== 1767]"
   ]
  },
  {
   "cell_type": "code",
   "execution_count": 14,
   "metadata": {
    "scrolled": true
   },
   "outputs": [
    {
     "data": {
      "text/html": [
       "<div>\n",
       "<style scoped>\n",
       "    .dataframe tbody tr th:only-of-type {\n",
       "        vertical-align: middle;\n",
       "    }\n",
       "\n",
       "    .dataframe tbody tr th {\n",
       "        vertical-align: top;\n",
       "    }\n",
       "\n",
       "    .dataframe thead th {\n",
       "        text-align: right;\n",
       "    }\n",
       "</style>\n",
       "<table border=\"1\" class=\"dataframe\">\n",
       "  <thead>\n",
       "    <tr style=\"text-align: right;\">\n",
       "      <th></th>\n",
       "      <th>client_id</th>\n",
       "      <th>pit</th>\n",
       "      <th>recent_successful_repayments</th>\n",
       "      <th>future_bad_probability</th>\n",
       "      <th>available_credit</th>\n",
       "      <th>balance</th>\n",
       "      <th>sum_failed_repayments</th>\n",
       "      <th>max_failed_repayments</th>\n",
       "      <th>credit_score</th>\n",
       "      <th>external score</th>\n",
       "      <th>credit_inquiries_count</th>\n",
       "      <th>credit_open_balance</th>\n",
       "      <th>years_on_file</th>\n",
       "      <th>max_successful_repayments</th>\n",
       "      <th>missing_report</th>\n",
       "      <th>client_industry_unknown</th>\n",
       "      <th>tag_in_six_months</th>\n",
       "    </tr>\n",
       "  </thead>\n",
       "  <tbody>\n",
       "    <tr>\n",
       "      <th>1124</th>\n",
       "      <td>20409</td>\n",
       "      <td>2017-08-28</td>\n",
       "      <td>12272.152660</td>\n",
       "      <td>0.292198</td>\n",
       "      <td>22963.669950</td>\n",
       "      <td>2054.614951</td>\n",
       "      <td>0.0</td>\n",
       "      <td>0.0</td>\n",
       "      <td>668.0</td>\n",
       "      <td>968.0</td>\n",
       "      <td>0.0</td>\n",
       "      <td>81780.0</td>\n",
       "      <td>12.0</td>\n",
       "      <td>27.0</td>\n",
       "      <td>0</td>\n",
       "      <td>0</td>\n",
       "      <td>good</td>\n",
       "    </tr>\n",
       "    <tr>\n",
       "      <th>2759</th>\n",
       "      <td>20409</td>\n",
       "      <td>2016-10-12</td>\n",
       "      <td>5716.489629</td>\n",
       "      <td>0.063499</td>\n",
       "      <td>8724.433423</td>\n",
       "      <td>1111.864333</td>\n",
       "      <td>0.0</td>\n",
       "      <td>0.0</td>\n",
       "      <td>NaN</td>\n",
       "      <td>-34.0</td>\n",
       "      <td>NaN</td>\n",
       "      <td>NaN</td>\n",
       "      <td>8.0</td>\n",
       "      <td>NaN</td>\n",
       "      <td>0</td>\n",
       "      <td>0</td>\n",
       "      <td>good</td>\n",
       "    </tr>\n",
       "  </tbody>\n",
       "</table>\n",
       "</div>"
      ],
      "text/plain": [
       "      client_id        pit  recent_successful_repayments  \\\n",
       "1124      20409 2017-08-28                  12272.152660   \n",
       "2759      20409 2016-10-12                   5716.489629   \n",
       "\n",
       "      future_bad_probability  available_credit      balance  \\\n",
       "1124                0.292198      22963.669950  2054.614951   \n",
       "2759                0.063499       8724.433423  1111.864333   \n",
       "\n",
       "      sum_failed_repayments   max_failed_repayments  credit_score  \\\n",
       "1124                     0.0                    0.0         668.0   \n",
       "2759                     0.0                    0.0           NaN   \n",
       "\n",
       "      external score  credit_inquiries_count  credit_open_balance  \\\n",
       "1124           968.0                     0.0              81780.0   \n",
       "2759           -34.0                     NaN                  NaN   \n",
       "\n",
       "      years_on_file  max_successful_repayments  missing_report  \\\n",
       "1124           12.0                       27.0               0   \n",
       "2759            8.0                        NaN               0   \n",
       "\n",
       "      client_industry_unknown tag_in_six_months  \n",
       "1124                        0              good  \n",
       "2759                        0              good  "
      ]
     },
     "execution_count": 14,
     "metadata": {},
     "output_type": "execute_result"
    }
   ],
   "source": [
    "# another example with client_id being 20409\n",
    "data[data.client_id== 20409]"
   ]
  },
  {
   "cell_type": "code",
   "execution_count": 15,
   "metadata": {
    "collapsed": true
   },
   "outputs": [],
   "source": [
    "# remove duplicates in client_id, keeping only the NEWEST record based on the records' point_in_time\n",
    "duplicate_client_ids = data[data.duplicated(subset=['client_id'],keep=False)].client_id.unique()\n",
    "for client_id in duplicate_client_ids:\n",
    "    temp = data[data.client_id== client_id]  # a temporary 2-row dataframe with the 2 records of a duplicate client_id\n",
    "    if temp['pit'].diff().values[1].astype('float') < 0:\n",
    "        data.drop([temp.index.values[1]], inplace=True)\n",
    "    else:\n",
    "        data.drop([temp.index.values[0]], inplace=True)\n",
    "        "
   ]
  },
  {
   "cell_type": "code",
   "execution_count": 16,
   "metadata": {
    "scrolled": true
   },
   "outputs": [
    {
     "data": {
      "text/plain": [
       "Int64Index([], dtype='int64')"
      ]
     },
     "execution_count": 16,
     "metadata": {},
     "output_type": "execute_result"
    }
   ],
   "source": [
    "# Again check for duplicates in client_ids\n",
    "data[data.duplicated(subset=['client_id'], keep=False)].index"
   ]
  },
  {
   "cell_type": "markdown",
   "metadata": {},
   "source": [
    "### Univariate analysis for each feature\n",
    "\n",
    "- Some features, for example `sum_failed_repayments `, `recent_successful_repayments`, `credit_open_balance` are strongly right skewed.\n",
    "\n",
    "\n",
    "- Only 2 clients with `missing_report` being 1.\n",
    "\n",
    "\n",
    "- There are strange values in `credit_score` and `external score`: being negative and/or extremely large, which need to be taken care of later.\n",
    "\n",
    "\n",
    "- `max_successful_repayments` represents number of successful repayments which should not be negative, but one observes some negative values in this feature. "
   ]
  },
  {
   "cell_type": "code",
   "execution_count": 17,
   "metadata": {},
   "outputs": [
    {
     "name": "stdout",
     "output_type": "stream",
     "text": [
      "Number of original features 13\n"
     ]
    }
   ],
   "source": [
    "feature_list = list(data.columns.values) \n",
    "[feature_list.remove(feature) for feature in ['client_id','pit','future_bad_probability','tag_in_six_months']]\n",
    "print('Number of original features', len(feature_list))\n",
    "#feature_list"
   ]
  },
  {
   "cell_type": "code",
   "execution_count": 18,
   "metadata": {},
   "outputs": [
    {
     "data": {
      "image/png": "[encoded data removed]",
      "text/plain": [
       "<matplotlib.figure.Figure at 0x10a797588>"
      ]
     },
     "metadata": {},
     "output_type": "display_data"
    }
   ],
   "source": [
    "# histogram\n",
    "plt.figure(figsize = (15,10))\n",
    "count = 0\n",
    "for feature in feature_list[0:6]:\n",
    "    plt.subplot(str(23) + str(count))\n",
    "    count += 1\n",
    "    data[feature].hist()\n",
    "    plt.ylabel('Frequency', fontsize=12)\n",
    "    plt.xlabel(feature, fontsize=12)\n",
    "    plt.xticks(rotation=0)\n"
   ]
  },
  {
   "cell_type": "code",
   "execution_count": 19,
   "metadata": {},
   "outputs": [
    {
     "data": {
      "image/png": "[encoded data removed]",
      "text/plain": [
       "<matplotlib.figure.Figure at 0x10a797358>"
      ]
     },
     "metadata": {},
     "output_type": "display_data"
    }
   ],
   "source": [
    "# box plots\n",
    "plt.figure(figsize = (15,10))\n",
    "count = 0\n",
    "for feature in feature_list[:6]:\n",
    "    plt.subplot(str(23) + str(count))\n",
    "    count += 1\n",
    "    data[feature].plot.box()\n",
    "    plt.xticks(rotation=0)\n"
   ]
  },
  {
   "cell_type": "code",
   "execution_count": 20,
   "metadata": {},
   "outputs": [
    {
     "data": {
      "image/png": "[encoded data removed]",
      "text/plain": [
       "<matplotlib.figure.Figure at 0x10a797240>"
      ]
     },
     "metadata": {},
     "output_type": "display_data"
    }
   ],
   "source": [
    "plt.figure(2, figsize = (15,10))\n",
    "count = 0\n",
    "for feature in feature_list[6:12]:\n",
    "    plt.subplot(str(23) + str(count))\n",
    "    count += 1\n",
    "    data[feature].hist()\n",
    "    plt.ylabel('Frequency', fontsize=12)\n",
    "    plt.xlabel(feature, fontsize=12)\n",
    "    plt.xticks(rotation=0)"
   ]
  },
  {
   "cell_type": "code",
   "execution_count": 21,
   "metadata": {},
   "outputs": [
    {
     "data": {
      "image/png": "[encoded data removed]",
      "text/plain": [
       "<matplotlib.figure.Figure at 0x10a029e10>"
      ]
     },
     "metadata": {},
     "output_type": "display_data"
    }
   ],
   "source": [
    "plt.figure(1, figsize = (15,10))\n",
    "count = 0\n",
    "for feature in feature_list[6:12]:\n",
    "    plt.subplot(str(23) + str(count))\n",
    "    count += 1\n",
    "    data[feature].plot.box()\n",
    "    plt.xticks(rotation=0)"
   ]
  },
  {
   "cell_type": "code",
   "execution_count": 22,
   "metadata": {},
   "outputs": [
    {
     "data": {
      "image/png": "[encoded data removed]",
      "text/plain": [
       "<matplotlib.figure.Figure at 0x10b0bf9e8>"
      ]
     },
     "metadata": {},
     "output_type": "display_data"
    }
   ],
   "source": [
    "# the last in feature list\n",
    "data['client_industry_unknown'].value_counts(normalize=True).plot.bar(title= 'client_industry_unknown')\n",
    "plt.show()"
   ]
  },
  {
   "cell_type": "code",
   "execution_count": 23,
   "metadata": {},
   "outputs": [
    {
     "data": {
      "image/png": "[encoded data removed]",
      "text/plain": [
       "<matplotlib.figure.Figure at 0x10b051b38>"
      ]
     },
     "metadata": {},
     "output_type": "display_data"
    }
   ],
   "source": [
    "# another categorical feature: years_on_file\n",
    "data['years_on_file'].value_counts(normalize=True).plot.bar(title= 'years_on_file')\n",
    "plt.show()"
   ]
  },
  {
   "cell_type": "code",
   "execution_count": 24,
   "metadata": {},
   "outputs": [
    {
     "data": {
      "text/plain": [
       "0    3262\n",
       "1       2\n",
       "Name: missing_report, dtype: int64"
      ]
     },
     "execution_count": 24,
     "metadata": {},
     "output_type": "execute_result"
    }
   ],
   "source": [
    "data['missing_report'].value_counts()"
   ]
  },
  {
   "cell_type": "markdown",
   "metadata": {},
   "source": [
    "### Missing values and outlier treatment\n",
    "\n",
    "- With more than 40% values missing in **`max_successful_repayments`**, any imputation will strongly introduce bias to the result. Also some strange negative values appear in this column. Therefore, I drop this feature.\n",
    "\n",
    "\n",
    "- Missing values for **`sum_failed_repayments `** and **`max_failed_repayments`** happen for the same clients. On the one hand, these two features are important signals to predict future payments being successful or not. Moreover, these clients also have several missing values in other fields like `credit_inquiries_count`, `credit_open_balance`, `years_on_file`. So I decide to not impute them and to drop all all 27 clients with missing reports for the two features. \n",
    "\n",
    "\n",
    "- 400 clients with unusual values for **`external score`**: 380 with a score -34, 1 with -15038.5, and 1 with 13469, while normal values should be from 0 to 1300. These clients also mostly don't have a credit score, except two of them with strange **`credit_score`** values, -10003 and 9002. Unless the minus and unusual scores are intentionally put in the dataset with a well-defined meaning, for now, I assume it's an error, and so neglect the rows with those values. \n",
    "\n",
    "\n",
    "- After all the above steps, all missing values in categorical features,  493 for **`years_on_file`** and 36 for **`credit_inquiries_count`**, are filled with the most frequent values. For numerical continuous features, the missing values are filled with mean values.    \n",
    "    \n"
   ]
  },
  {
   "cell_type": "code",
   "execution_count": 25,
   "metadata": {
    "scrolled": false
   },
   "outputs": [
    {
     "data": {
      "text/plain": [
       "client_id                          0\n",
       "pit                                0\n",
       "recent_successful_repayments       2\n",
       "future_bad_probability             0\n",
       "available_credit                  40\n",
       "balance                           30\n",
       "sum_failed_repayments             27\n",
       "max_failed_repayments             27\n",
       "credit_score                     394\n",
       "external score                     0\n",
       "credit_inquiries_count           407\n",
       "credit_open_balance              422\n",
       "years_on_file                    593\n",
       "max_successful_repayments       1316\n",
       "missing_report                     0\n",
       "client_industry_unknown            0\n",
       "tag_in_six_months                  0\n",
       "dtype: int64"
      ]
     },
     "execution_count": 25,
     "metadata": {},
     "output_type": "execute_result"
    }
   ],
   "source": [
    "# how many null values in each column\n",
    "data.isnull().sum()"
   ]
  },
  {
   "cell_type": "code",
   "execution_count": 26,
   "metadata": {},
   "outputs": [
    {
     "data": {
      "text/html": [
       "<div>\n",
       "<style scoped>\n",
       "    .dataframe tbody tr th:only-of-type {\n",
       "        vertical-align: middle;\n",
       "    }\n",
       "\n",
       "    .dataframe tbody tr th {\n",
       "        vertical-align: top;\n",
       "    }\n",
       "\n",
       "    .dataframe thead th {\n",
       "        text-align: right;\n",
       "    }\n",
       "</style>\n",
       "<table border=\"1\" class=\"dataframe\">\n",
       "  <thead>\n",
       "    <tr style=\"text-align: right;\">\n",
       "      <th></th>\n",
       "      <th>recent_successful_repayments</th>\n",
       "      <th>available_credit</th>\n",
       "      <th>balance</th>\n",
       "      <th>sum_failed_repayments</th>\n",
       "      <th>max_failed_repayments</th>\n",
       "      <th>credit_score</th>\n",
       "      <th>external score</th>\n",
       "      <th>credit_inquiries_count</th>\n",
       "      <th>credit_open_balance</th>\n",
       "      <th>years_on_file</th>\n",
       "      <th>max_successful_repayments</th>\n",
       "      <th>missing_report</th>\n",
       "      <th>client_industry_unknown</th>\n",
       "    </tr>\n",
       "  </thead>\n",
       "  <tbody>\n",
       "    <tr>\n",
       "      <th>count</th>\n",
       "      <td>3262.000000</td>\n",
       "      <td>3224.000000</td>\n",
       "      <td>3234.000000</td>\n",
       "      <td>3237.000000</td>\n",
       "      <td>3237.000000</td>\n",
       "      <td>2870.000000</td>\n",
       "      <td>3264.000000</td>\n",
       "      <td>2857.000000</td>\n",
       "      <td>2.842000e+03</td>\n",
       "      <td>2671.000000</td>\n",
       "      <td>1948.000000</td>\n",
       "      <td>3264.000000</td>\n",
       "      <td>3264.000000</td>\n",
       "    </tr>\n",
       "    <tr>\n",
       "      <th>mean</th>\n",
       "      <td>12217.431914</td>\n",
       "      <td>11267.508935</td>\n",
       "      <td>11087.993945</td>\n",
       "      <td>462.737435</td>\n",
       "      <td>148.683132</td>\n",
       "      <td>666.801742</td>\n",
       "      <td>845.467371</td>\n",
       "      <td>10.191810</td>\n",
       "      <td>2.354995e+05</td>\n",
       "      <td>6.538001</td>\n",
       "      <td>14.377823</td>\n",
       "      <td>0.000613</td>\n",
       "      <td>0.025429</td>\n",
       "    </tr>\n",
       "    <tr>\n",
       "      <th>std</th>\n",
       "      <td>16072.690860</td>\n",
       "      <td>13474.252301</td>\n",
       "      <td>12725.722346</td>\n",
       "      <td>1678.738423</td>\n",
       "      <td>684.793241</td>\n",
       "      <td>257.745380</td>\n",
       "      <td>487.483521</td>\n",
       "      <td>11.611578</td>\n",
       "      <td>2.776411e+05</td>\n",
       "      <td>4.298588</td>\n",
       "      <td>10.811879</td>\n",
       "      <td>0.024750</td>\n",
       "      <td>0.157448</td>\n",
       "    </tr>\n",
       "    <tr>\n",
       "      <th>min</th>\n",
       "      <td>-134.298380</td>\n",
       "      <td>-34469.619210</td>\n",
       "      <td>-3392.749645</td>\n",
       "      <td>0.000000</td>\n",
       "      <td>0.000000</td>\n",
       "      <td>-10003.000000</td>\n",
       "      <td>-15038.500000</td>\n",
       "      <td>-2.000000</td>\n",
       "      <td>0.000000e+00</td>\n",
       "      <td>0.000000</td>\n",
       "      <td>-7.000000</td>\n",
       "      <td>0.000000</td>\n",
       "      <td>0.000000</td>\n",
       "    </tr>\n",
       "    <tr>\n",
       "      <th>25%</th>\n",
       "      <td>3426.315983</td>\n",
       "      <td>2298.860872</td>\n",
       "      <td>1488.335920</td>\n",
       "      <td>0.000000</td>\n",
       "      <td>0.000000</td>\n",
       "      <td>635.000000</td>\n",
       "      <td>896.000000</td>\n",
       "      <td>3.000000</td>\n",
       "      <td>4.635325e+04</td>\n",
       "      <td>3.000000</td>\n",
       "      <td>0.000000</td>\n",
       "      <td>0.000000</td>\n",
       "      <td>0.000000</td>\n",
       "    </tr>\n",
       "    <tr>\n",
       "      <th>50%</th>\n",
       "      <td>8660.582997</td>\n",
       "      <td>7506.533762</td>\n",
       "      <td>7317.102283</td>\n",
       "      <td>0.000000</td>\n",
       "      <td>0.000000</td>\n",
       "      <td>664.000000</td>\n",
       "      <td>950.000000</td>\n",
       "      <td>7.000000</td>\n",
       "      <td>1.422555e+05</td>\n",
       "      <td>6.000000</td>\n",
       "      <td>18.000000</td>\n",
       "      <td>0.000000</td>\n",
       "      <td>0.000000</td>\n",
       "    </tr>\n",
       "    <tr>\n",
       "      <th>75%</th>\n",
       "      <td>16088.145615</td>\n",
       "      <td>16591.306435</td>\n",
       "      <td>16666.572777</td>\n",
       "      <td>0.000000</td>\n",
       "      <td>0.000000</td>\n",
       "      <td>697.000000</td>\n",
       "      <td>1002.500000</td>\n",
       "      <td>13.000000</td>\n",
       "      <td>3.362685e+05</td>\n",
       "      <td>9.000000</td>\n",
       "      <td>24.000000</td>\n",
       "      <td>0.000000</td>\n",
       "      <td>0.000000</td>\n",
       "    </tr>\n",
       "    <tr>\n",
       "      <th>max</th>\n",
       "      <td>485126.766200</td>\n",
       "      <td>150020.533000</td>\n",
       "      <td>98773.000520</td>\n",
       "      <td>27948.846780</td>\n",
       "      <td>24221.161920</td>\n",
       "      <td>9002.000000</td>\n",
       "      <td>13469.000000</td>\n",
       "      <td>141.000000</td>\n",
       "      <td>3.683657e+06</td>\n",
       "      <td>17.000000</td>\n",
       "      <td>33.000000</td>\n",
       "      <td>1.000000</td>\n",
       "      <td>1.000000</td>\n",
       "    </tr>\n",
       "  </tbody>\n",
       "</table>\n",
       "</div>"
      ],
      "text/plain": [
       "       recent_successful_repayments  available_credit       balance  \\\n",
       "count                   3262.000000       3224.000000   3234.000000   \n",
       "mean                   12217.431914      11267.508935  11087.993945   \n",
       "std                    16072.690860      13474.252301  12725.722346   \n",
       "min                     -134.298380     -34469.619210  -3392.749645   \n",
       "25%                     3426.315983       2298.860872   1488.335920   \n",
       "50%                     8660.582997       7506.533762   7317.102283   \n",
       "75%                    16088.145615      16591.306435  16666.572777   \n",
       "max                   485126.766200     150020.533000  98773.000520   \n",
       "\n",
       "       sum_failed_repayments   max_failed_repayments  credit_score  \\\n",
       "count             3237.000000            3237.000000   2870.000000   \n",
       "mean               462.737435             148.683132    666.801742   \n",
       "std               1678.738423             684.793241    257.745380   \n",
       "min                  0.000000               0.000000 -10003.000000   \n",
       "25%                  0.000000               0.000000    635.000000   \n",
       "50%                  0.000000               0.000000    664.000000   \n",
       "75%                  0.000000               0.000000    697.000000   \n",
       "max              27948.846780           24221.161920   9002.000000   \n",
       "\n",
       "       external score  credit_inquiries_count  credit_open_balance  \\\n",
       "count     3264.000000             2857.000000         2.842000e+03   \n",
       "mean       845.467371               10.191810         2.354995e+05   \n",
       "std        487.483521               11.611578         2.776411e+05   \n",
       "min     -15038.500000               -2.000000         0.000000e+00   \n",
       "25%        896.000000                3.000000         4.635325e+04   \n",
       "50%        950.000000                7.000000         1.422555e+05   \n",
       "75%       1002.500000               13.000000         3.362685e+05   \n",
       "max      13469.000000              141.000000         3.683657e+06   \n",
       "\n",
       "       years_on_file  max_successful_repayments  missing_report  \\\n",
       "count    2671.000000                1948.000000     3264.000000   \n",
       "mean        6.538001                  14.377823        0.000613   \n",
       "std         4.298588                  10.811879        0.024750   \n",
       "min         0.000000                  -7.000000        0.000000   \n",
       "25%         3.000000                   0.000000        0.000000   \n",
       "50%         6.000000                  18.000000        0.000000   \n",
       "75%         9.000000                  24.000000        0.000000   \n",
       "max        17.000000                  33.000000        1.000000   \n",
       "\n",
       "       client_industry_unknown  \n",
       "count              3264.000000  \n",
       "mean                  0.025429  \n",
       "std                   0.157448  \n",
       "min                   0.000000  \n",
       "25%                   0.000000  \n",
       "50%                   0.000000  \n",
       "75%                   0.000000  \n",
       "max                   1.000000  "
      ]
     },
     "execution_count": 26,
     "metadata": {},
     "output_type": "execute_result"
    }
   ],
   "source": [
    "data[feature_list].describe()"
   ]
  },
  {
   "cell_type": "code",
   "execution_count": 27,
   "metadata": {
    "scrolled": true
   },
   "outputs": [
    {
     "data": {
      "text/plain": [
       "(462, 17)"
      ]
     },
     "execution_count": 27,
     "metadata": {},
     "output_type": "execute_result"
    }
   ],
   "source": [
    "data[data['max_successful_repayments']==0].shape"
   ]
  },
  {
   "cell_type": "code",
   "execution_count": 28,
   "metadata": {
    "collapsed": true
   },
   "outputs": [],
   "source": [
    "# Drop max_successful_repayments feature\n",
    "data.drop(columns ='max_successful_repayments', inplace = True)\n",
    "feature_list.remove('max_successful_repayments')"
   ]
  },
  {
   "cell_type": "code",
   "execution_count": 29,
   "metadata": {},
   "outputs": [
    {
     "data": {
      "text/html": [
       "<div>\n",
       "<style scoped>\n",
       "    .dataframe tbody tr th:only-of-type {\n",
       "        vertical-align: middle;\n",
       "    }\n",
       "\n",
       "    .dataframe tbody tr th {\n",
       "        vertical-align: top;\n",
       "    }\n",
       "\n",
       "    .dataframe thead th {\n",
       "        text-align: right;\n",
       "    }\n",
       "</style>\n",
       "<table border=\"1\" class=\"dataframe\">\n",
       "  <thead>\n",
       "    <tr style=\"text-align: right;\">\n",
       "      <th></th>\n",
       "      <th>client_id</th>\n",
       "      <th>pit</th>\n",
       "      <th>recent_successful_repayments</th>\n",
       "      <th>future_bad_probability</th>\n",
       "      <th>available_credit</th>\n",
       "      <th>balance</th>\n",
       "      <th>sum_failed_repayments</th>\n",
       "      <th>max_failed_repayments</th>\n",
       "      <th>credit_score</th>\n",
       "      <th>external score</th>\n",
       "      <th>credit_inquiries_count</th>\n",
       "      <th>credit_open_balance</th>\n",
       "      <th>years_on_file</th>\n",
       "      <th>missing_report</th>\n",
       "      <th>client_industry_unknown</th>\n",
       "      <th>tag_in_six_months</th>\n",
       "    </tr>\n",
       "  </thead>\n",
       "  <tbody>\n",
       "    <tr>\n",
       "      <th>48</th>\n",
       "      <td>35087</td>\n",
       "      <td>2016-08-15</td>\n",
       "      <td>43351.150830</td>\n",
       "      <td>0.741680</td>\n",
       "      <td>NaN</td>\n",
       "      <td>50548.237160</td>\n",
       "      <td>NaN</td>\n",
       "      <td>NaN</td>\n",
       "      <td>652.0</td>\n",
       "      <td>944.0</td>\n",
       "      <td>NaN</td>\n",
       "      <td>NaN</td>\n",
       "      <td>8.0</td>\n",
       "      <td>0</td>\n",
       "      <td>0</td>\n",
       "      <td>bad</td>\n",
       "    </tr>\n",
       "    <tr>\n",
       "      <th>257</th>\n",
       "      <td>41682</td>\n",
       "      <td>2016-08-08</td>\n",
       "      <td>15058.527580</td>\n",
       "      <td>0.574760</td>\n",
       "      <td>4856.866558</td>\n",
       "      <td>10339.132570</td>\n",
       "      <td>NaN</td>\n",
       "      <td>NaN</td>\n",
       "      <td>709.0</td>\n",
       "      <td>1029.5</td>\n",
       "      <td>1.0</td>\n",
       "      <td>115729.0</td>\n",
       "      <td>NaN</td>\n",
       "      <td>0</td>\n",
       "      <td>0</td>\n",
       "      <td>bad</td>\n",
       "    </tr>\n",
       "    <tr>\n",
       "      <th>413</th>\n",
       "      <td>35301</td>\n",
       "      <td>2016-08-06</td>\n",
       "      <td>NaN</td>\n",
       "      <td>0.493731</td>\n",
       "      <td>-6377.789302</td>\n",
       "      <td>26479.355760</td>\n",
       "      <td>NaN</td>\n",
       "      <td>NaN</td>\n",
       "      <td>663.0</td>\n",
       "      <td>960.5</td>\n",
       "      <td>NaN</td>\n",
       "      <td>NaN</td>\n",
       "      <td>6.0</td>\n",
       "      <td>0</td>\n",
       "      <td>0</td>\n",
       "      <td>bad</td>\n",
       "    </tr>\n",
       "    <tr>\n",
       "      <th>507</th>\n",
       "      <td>42456</td>\n",
       "      <td>2016-08-06</td>\n",
       "      <td>NaN</td>\n",
       "      <td>0.458727</td>\n",
       "      <td>-1830.799690</td>\n",
       "      <td>13830.371240</td>\n",
       "      <td>NaN</td>\n",
       "      <td>NaN</td>\n",
       "      <td>623.0</td>\n",
       "      <td>900.5</td>\n",
       "      <td>8.0</td>\n",
       "      <td>40729.0</td>\n",
       "      <td>4.0</td>\n",
       "      <td>0</td>\n",
       "      <td>0</td>\n",
       "      <td>bad</td>\n",
       "    </tr>\n",
       "    <tr>\n",
       "      <th>551</th>\n",
       "      <td>39526</td>\n",
       "      <td>2016-08-10</td>\n",
       "      <td>4329.021963</td>\n",
       "      <td>0.441901</td>\n",
       "      <td>6689.979235</td>\n",
       "      <td>5346.076094</td>\n",
       "      <td>NaN</td>\n",
       "      <td>NaN</td>\n",
       "      <td>658.0</td>\n",
       "      <td>953.0</td>\n",
       "      <td>6.0</td>\n",
       "      <td>45672.0</td>\n",
       "      <td>9.0</td>\n",
       "      <td>0</td>\n",
       "      <td>0</td>\n",
       "      <td>good</td>\n",
       "    </tr>\n",
       "  </tbody>\n",
       "</table>\n",
       "</div>"
      ],
      "text/plain": [
       "     client_id        pit  recent_successful_repayments  \\\n",
       "48       35087 2016-08-15                  43351.150830   \n",
       "257      41682 2016-08-08                  15058.527580   \n",
       "413      35301 2016-08-06                           NaN   \n",
       "507      42456 2016-08-06                           NaN   \n",
       "551      39526 2016-08-10                   4329.021963   \n",
       "\n",
       "     future_bad_probability  available_credit       balance  \\\n",
       "48                 0.741680               NaN  50548.237160   \n",
       "257                0.574760       4856.866558  10339.132570   \n",
       "413                0.493731      -6377.789302  26479.355760   \n",
       "507                0.458727      -1830.799690  13830.371240   \n",
       "551                0.441901       6689.979235   5346.076094   \n",
       "\n",
       "     sum_failed_repayments   max_failed_repayments  credit_score  \\\n",
       "48                      NaN                    NaN         652.0   \n",
       "257                     NaN                    NaN         709.0   \n",
       "413                     NaN                    NaN         663.0   \n",
       "507                     NaN                    NaN         623.0   \n",
       "551                     NaN                    NaN         658.0   \n",
       "\n",
       "     external score  credit_inquiries_count  credit_open_balance  \\\n",
       "48            944.0                     NaN                  NaN   \n",
       "257          1029.5                     1.0             115729.0   \n",
       "413           960.5                     NaN                  NaN   \n",
       "507           900.5                     8.0              40729.0   \n",
       "551           953.0                     6.0              45672.0   \n",
       "\n",
       "     years_on_file  missing_report  client_industry_unknown tag_in_six_months  \n",
       "48             8.0               0                        0               bad  \n",
       "257            NaN               0                        0               bad  \n",
       "413            6.0               0                        0               bad  \n",
       "507            4.0               0                        0               bad  \n",
       "551            9.0               0                        0              good  "
      ]
     },
     "execution_count": 29,
     "metadata": {},
     "output_type": "execute_result"
    }
   ],
   "source": [
    "# Check missing values in 'sum_failed_repayments ' feature\n",
    "data[data['sum_failed_repayments '].isnull()].head()"
   ]
  },
  {
   "cell_type": "code",
   "execution_count": 30,
   "metadata": {
    "collapsed": true
   },
   "outputs": [],
   "source": [
    "# Drop rows with missing values in 'sum_failed_repayments '\n",
    "data.dropna(subset=['sum_failed_repayments '], inplace = True)\n"
   ]
  },
  {
   "cell_type": "code",
   "execution_count": 31,
   "metadata": {},
   "outputs": [
    {
     "data": {
      "text/plain": [
       "client_id                         0\n",
       "pit                               0\n",
       "recent_successful_repayments      0\n",
       "future_bad_probability            0\n",
       "available_credit                 32\n",
       "balance                          27\n",
       "sum_failed_repayments             0\n",
       "max_failed_repayments             0\n",
       "credit_score                    380\n",
       "external score                    0\n",
       "credit_inquiries_count          389\n",
       "credit_open_balance             403\n",
       "years_on_file                   577\n",
       "missing_report                    0\n",
       "client_industry_unknown           0\n",
       "tag_in_six_months                 0\n",
       "dtype: int64"
      ]
     },
     "execution_count": 31,
     "metadata": {},
     "output_type": "execute_result"
    }
   ],
   "source": [
    "# how many null values in each column\n",
    "data.isnull().sum()"
   ]
  },
  {
   "cell_type": "code",
   "execution_count": 32,
   "metadata": {
    "scrolled": true
   },
   "outputs": [
    {
     "data": {
      "text/html": [
       "<div>\n",
       "<style scoped>\n",
       "    .dataframe tbody tr th:only-of-type {\n",
       "        vertical-align: middle;\n",
       "    }\n",
       "\n",
       "    .dataframe tbody tr th {\n",
       "        vertical-align: top;\n",
       "    }\n",
       "\n",
       "    .dataframe thead th {\n",
       "        text-align: right;\n",
       "    }\n",
       "</style>\n",
       "<table border=\"1\" class=\"dataframe\">\n",
       "  <thead>\n",
       "    <tr style=\"text-align: right;\">\n",
       "      <th></th>\n",
       "      <th>client_id</th>\n",
       "      <th>pit</th>\n",
       "      <th>recent_successful_repayments</th>\n",
       "      <th>future_bad_probability</th>\n",
       "      <th>available_credit</th>\n",
       "      <th>balance</th>\n",
       "      <th>sum_failed_repayments</th>\n",
       "      <th>max_failed_repayments</th>\n",
       "      <th>credit_score</th>\n",
       "      <th>external score</th>\n",
       "      <th>credit_inquiries_count</th>\n",
       "      <th>credit_open_balance</th>\n",
       "      <th>years_on_file</th>\n",
       "      <th>missing_report</th>\n",
       "      <th>client_industry_unknown</th>\n",
       "      <th>tag_in_six_months</th>\n",
       "    </tr>\n",
       "  </thead>\n",
       "  <tbody>\n",
       "    <tr>\n",
       "      <th>811</th>\n",
       "      <td>24352</td>\n",
       "      <td>2016-08-21</td>\n",
       "      <td>12139.44325</td>\n",
       "      <td>0.356432</td>\n",
       "      <td>3234.281929</td>\n",
       "      <td>6698.929303</td>\n",
       "      <td>0.0</td>\n",
       "      <td>0.0</td>\n",
       "      <td>9002.0</td>\n",
       "      <td>13469.0</td>\n",
       "      <td>0.0</td>\n",
       "      <td>0.0</td>\n",
       "      <td>NaN</td>\n",
       "      <td>0</td>\n",
       "      <td>0</td>\n",
       "      <td>good</td>\n",
       "    </tr>\n",
       "    <tr>\n",
       "      <th>3306</th>\n",
       "      <td>38889</td>\n",
       "      <td>2017-08-08</td>\n",
       "      <td>13562.85458</td>\n",
       "      <td>0.007143</td>\n",
       "      <td>11057.729510</td>\n",
       "      <td>14039.060570</td>\n",
       "      <td>0.0</td>\n",
       "      <td>0.0</td>\n",
       "      <td>-10003.0</td>\n",
       "      <td>-15038.5</td>\n",
       "      <td>NaN</td>\n",
       "      <td>NaN</td>\n",
       "      <td>3.0</td>\n",
       "      <td>0</td>\n",
       "      <td>0</td>\n",
       "      <td>good</td>\n",
       "    </tr>\n",
       "  </tbody>\n",
       "</table>\n",
       "</div>"
      ],
      "text/plain": [
       "      client_id        pit  recent_successful_repayments  \\\n",
       "811       24352 2016-08-21                   12139.44325   \n",
       "3306      38889 2017-08-08                   13562.85458   \n",
       "\n",
       "      future_bad_probability  available_credit       balance  \\\n",
       "811                 0.356432       3234.281929   6698.929303   \n",
       "3306                0.007143      11057.729510  14039.060570   \n",
       "\n",
       "      sum_failed_repayments   max_failed_repayments  credit_score  \\\n",
       "811                      0.0                    0.0        9002.0   \n",
       "3306                     0.0                    0.0      -10003.0   \n",
       "\n",
       "      external score  credit_inquiries_count  credit_open_balance  \\\n",
       "811          13469.0                     0.0                  0.0   \n",
       "3306        -15038.5                     NaN                  NaN   \n",
       "\n",
       "      years_on_file  missing_report  client_industry_unknown tag_in_six_months  \n",
       "811             NaN               0                        0              good  \n",
       "3306            3.0               0                        0              good  "
      ]
     },
     "execution_count": 32,
     "metadata": {},
     "output_type": "execute_result"
    }
   ],
   "source": [
    "# Check clients with negative or unrealistically high (>900) credit score\n",
    "data[(data['credit_score']<0) | (data['credit_score']>900)]"
   ]
  },
  {
   "cell_type": "code",
   "execution_count": 33,
   "metadata": {},
   "outputs": [
    {
     "data": {
      "text/plain": [
       "-34.0       380\n",
       "-15038.5      1\n",
       " 13469.0      1\n",
       "Name: external score, dtype: int64"
      ]
     },
     "execution_count": 33,
     "metadata": {},
     "output_type": "execute_result"
    }
   ],
   "source": [
    "# Check 400 clients with negative or unrealistically high (>1300) external score: external score values\n",
    "data[(data['external score']<0) | (data['external score']>1300)]['external score'].value_counts()"
   ]
  },
  {
   "cell_type": "code",
   "execution_count": 34,
   "metadata": {},
   "outputs": [
    {
     "data": {
      "text/plain": [
       "-10003.0    1\n",
       " 9002.0     1\n",
       "Name: credit_score, dtype: int64"
      ]
     },
     "execution_count": 34,
     "metadata": {},
     "output_type": "execute_result"
    }
   ],
   "source": [
    "# Check 400 clients with negative or unrealistically high (>1300) external score: credit_score values\n",
    "data[(data['external score']<0) | (data['external score']>1300)]['credit_score'].value_counts()"
   ]
  },
  {
   "cell_type": "code",
   "execution_count": 35,
   "metadata": {},
   "outputs": [
    {
     "data": {
      "text/plain": [
       " 2.0     5\n",
       " 0.0     4\n",
       " 4.0     3\n",
       " 7.0     3\n",
       " 3.0     3\n",
       " 6.0     3\n",
       " 8.0     1\n",
       " 13.0    1\n",
       " 14.0    1\n",
       " 12.0    1\n",
       "-1.0     1\n",
       " 36.0    1\n",
       " 32.0    1\n",
       " 9.0     1\n",
       "Name: credit_inquiries_count, dtype: int64"
      ]
     },
     "execution_count": 35,
     "metadata": {},
     "output_type": "execute_result"
    }
   ],
   "source": [
    "# Check 400 clients with negative or unrealistically high (>1300) external score: credit_inquiries_count values\n",
    "data[(data['external score']<0) | (data['external score']>1300)]['credit_inquiries_count'].value_counts()"
   ]
  },
  {
   "cell_type": "code",
   "execution_count": 36,
   "metadata": {
    "collapsed": true
   },
   "outputs": [],
   "source": [
    "# Drop 400 clients with negative or unrealistically high (>1300) external score\n",
    "row_to_drop = data[(data['external score']<0) | (data['external score']>1300)].index\n",
    "data.drop(row_to_drop, inplace = True)"
   ]
  },
  {
   "cell_type": "code",
   "execution_count": 37,
   "metadata": {},
   "outputs": [
    {
     "data": {
      "text/plain": [
       "client_id                         0\n",
       "pit                               0\n",
       "recent_successful_repayments      0\n",
       "future_bad_probability            0\n",
       "available_credit                 14\n",
       "balance                          15\n",
       "sum_failed_repayments             0\n",
       "max_failed_repayments             0\n",
       "credit_score                      0\n",
       "external score                    0\n",
       "credit_inquiries_count           36\n",
       "credit_open_balance              29\n",
       "years_on_file                   493\n",
       "missing_report                    0\n",
       "client_industry_unknown           0\n",
       "tag_in_six_months                 0\n",
       "dtype: int64"
      ]
     },
     "execution_count": 37,
     "metadata": {},
     "output_type": "execute_result"
    }
   ],
   "source": [
    "# Check number of missing values \n",
    "data.isnull().sum()"
   ]
  },
  {
   "cell_type": "code",
   "execution_count": 38,
   "metadata": {
    "collapsed": true
   },
   "outputs": [],
   "source": [
    "# Fill missing values in the remain categorical features with the most frequent value\n",
    "for feature in ['years_on_file', 'credit_inquiries_count']:\n",
    "    data.fillna(value={feature: data[feature].mode()[0]}, inplace = True)"
   ]
  },
  {
   "cell_type": "code",
   "execution_count": 39,
   "metadata": {
    "collapsed": true
   },
   "outputs": [],
   "source": [
    "# Fill missing values in the remain continuous features with mean values\n",
    "for feature in ['available_credit', 'balance', 'credit_open_balance']:\n",
    "    data.fillna(value={feature: data[feature].mean()}, inplace = True)"
   ]
  },
  {
   "cell_type": "code",
   "execution_count": 40,
   "metadata": {},
   "outputs": [
    {
     "data": {
      "text/plain": [
       "(2855, 16)"
      ]
     },
     "execution_count": 40,
     "metadata": {},
     "output_type": "execute_result"
    }
   ],
   "source": [
    "data.shape"
   ]
  },
  {
   "cell_type": "code",
   "execution_count": 41,
   "metadata": {},
   "outputs": [
    {
     "data": {
      "text/plain": [
       "client_id                       0\n",
       "pit                             0\n",
       "recent_successful_repayments    0\n",
       "future_bad_probability          0\n",
       "available_credit                0\n",
       "balance                         0\n",
       "sum_failed_repayments           0\n",
       "max_failed_repayments           0\n",
       "credit_score                    0\n",
       "external score                  0\n",
       "credit_inquiries_count          0\n",
       "credit_open_balance             0\n",
       "years_on_file                   0\n",
       "missing_report                  0\n",
       "client_industry_unknown         0\n",
       "tag_in_six_months               0\n",
       "dtype: int64"
      ]
     },
     "execution_count": 41,
     "metadata": {},
     "output_type": "execute_result"
    }
   ],
   "source": [
    "# Check number of missing values \n",
    "data.isnull().sum()"
   ]
  },
  {
   "cell_type": "markdown",
   "metadata": {},
   "source": [
    "### Class frequency\n",
    "\n",
    "The dataset is imbalanced since only ~20% of the data is positive - having **`tag_in_six_months`** being 'bad'.\n",
    "\n",
    "A visualization to see how well the CompanyX provided prediction **`future_bad_probability`** separates the two classes."
   ]
  },
  {
   "cell_type": "code",
   "execution_count": 42,
   "metadata": {
    "collapsed": true
   },
   "outputs": [],
   "source": [
    "# Replace class labels 'bad', 'good' with 1 and 0\n",
    "data['tag_in_six_months'].replace({'bad':1,'good':0},inplace=True)"
   ]
  },
  {
   "cell_type": "code",
   "execution_count": 43,
   "metadata": {
    "scrolled": true
   },
   "outputs": [
    {
     "name": "stdout",
     "output_type": "stream",
     "text": [
      "number of class bad/1 samples  565\n",
      "number of class good/0 samples  2290\n"
     ]
    },
    {
     "data": {
      "image/png": "[encoded data removed]",
      "text/plain": [
       "<matplotlib.figure.Figure at 0x10b0f9cf8>"
      ]
     },
     "metadata": {},
     "output_type": "display_data"
    }
   ],
   "source": [
    "# Number of samples in each class\n",
    "data['tag_in_six_months'].value_counts(normalize=True).plot.bar(title= 'tag_in_six_months')\n",
    "print('number of class bad/1 samples ', data[data['tag_in_six_months'] == 1].shape[0])\n",
    "print('number of class good/0 samples ', data[data['tag_in_six_months'] == 0].shape[0])\n",
    "\n",
    "plt.show()"
   ]
  },
  {
   "cell_type": "code",
   "execution_count": 44,
   "metadata": {},
   "outputs": [
    {
     "data": {
      "image/png": "[encoded data removed]",
      "text/plain": [
       "<matplotlib.figure.Figure at 0x10b0dfdd8>"
      ]
     },
     "metadata": {},
     "output_type": "display_data"
    }
   ],
   "source": [
    "# Provided CompanyX model prediction versus the class label\n",
    "plt.hist(data[data['tag_in_six_months']==0]['future_bad_probability'], \\\n",
    "         bins=np.arange(0,1.1,0.1), alpha=0.6, label='0', density = True)\n",
    "plt.hist(data[data['tag_in_six_months']==1]['future_bad_probability'], \\\n",
    "         bins=np.arange(0,1.1,0.1), alpha=0.6, label='1', color = 'orangered', density = True)\n",
    "plt.xlabel('future_bad_probability')\n",
    "plt.ylabel('Frequency')\n",
    "plt.legend(loc='upper right')\n",
    "plt.show()"
   ]
  },
  {
   "cell_type": "code",
   "execution_count": null,
   "metadata": {
    "collapsed": true
   },
   "outputs": [],
   "source": []
  },
  {
   "cell_type": "markdown",
   "metadata": {},
   "source": [
    "### Bivariate analysis/Correlations: features-class\n",
    "\n",
    "- **`credit_score`** and **`external_score`** are linear dependent with correlation score being 1. We'll leave `external_score` out of the feature list for training later.\n",
    "\n",
    "\n",
    "- **`sum_failed_repayments `** and **`max_failed_repayments`** are highly correlated. Since `sum_failed_repayments ` is more correlated to the class label 'tag_in_six_months', I'll keep this feature while neglecting to use  `max_failed_repayments` for the classification later.\n",
    "\n",
    "\n",
    "- `recent_successful_repayments` and `balance` are correlated, but keep them both for now. \n",
    "\n",
    "\n",
    "- **`missing_report`** column has only one value 0, i.e no predictive power, so I'll drop this column. \n",
    "\n",
    "\n",
    "- The class label **`tag_in_six_months`** correlates the most with `sum_failed_repayments`, `available_credit`, `credit_inquiries_count`, `client_industry_unknown`."
   ]
  },
  {
   "cell_type": "code",
   "execution_count": 45,
   "metadata": {},
   "outputs": [
    {
     "data": {
      "image/png": "[encoded data removed]",
      "text/plain": [
       "<matplotlib.figure.Figure at 0x10b098550>"
      ]
     },
     "metadata": {},
     "output_type": "display_data"
    }
   ],
   "source": [
    "plt.figure(figsize = (8,6))\n",
    "sns.heatmap(data[feature_list + ['tag_in_six_months']].corr().abs(),cmap=\"YlGnBu\",annot=False) #, cmap=\"Set2\"\n",
    "plt.show()"
   ]
  },
  {
   "cell_type": "code",
   "execution_count": 46,
   "metadata": {},
   "outputs": [
    {
     "data": {
      "text/plain": [
       "0    2855\n",
       "Name: missing_report, dtype: int64"
      ]
     },
     "execution_count": 46,
     "metadata": {},
     "output_type": "execute_result"
    }
   ],
   "source": [
    "# 'missing_report' has only one value\n",
    "data.missing_report.value_counts()"
   ]
  },
  {
   "cell_type": "code",
   "execution_count": 47,
   "metadata": {},
   "outputs": [
    {
     "data": {
      "text/html": [
       "<div>\n",
       "<style scoped>\n",
       "    .dataframe tbody tr th:only-of-type {\n",
       "        vertical-align: middle;\n",
       "    }\n",
       "\n",
       "    .dataframe tbody tr th {\n",
       "        vertical-align: top;\n",
       "    }\n",
       "\n",
       "    .dataframe thead th {\n",
       "        text-align: right;\n",
       "    }\n",
       "</style>\n",
       "<table border=\"1\" class=\"dataframe\">\n",
       "  <thead>\n",
       "    <tr style=\"text-align: right;\">\n",
       "      <th></th>\n",
       "      <th>recent_successful_repayments</th>\n",
       "      <th>available_credit</th>\n",
       "      <th>balance</th>\n",
       "      <th>sum_failed_repayments</th>\n",
       "      <th>max_failed_repayments</th>\n",
       "      <th>credit_score</th>\n",
       "      <th>external score</th>\n",
       "      <th>credit_inquiries_count</th>\n",
       "      <th>credit_open_balance</th>\n",
       "      <th>years_on_file</th>\n",
       "      <th>missing_report</th>\n",
       "      <th>client_industry_unknown</th>\n",
       "      <th>tag_in_six_months</th>\n",
       "    </tr>\n",
       "  </thead>\n",
       "  <tbody>\n",
       "    <tr>\n",
       "      <th>recent_successful_repayments</th>\n",
       "      <td>1.000000</td>\n",
       "      <td>0.200754</td>\n",
       "      <td>0.470852</td>\n",
       "      <td>-0.050497</td>\n",
       "      <td>-0.004413</td>\n",
       "      <td>0.041153</td>\n",
       "      <td>0.041153</td>\n",
       "      <td>-0.010887</td>\n",
       "      <td>0.057506</td>\n",
       "      <td>0.027802</td>\n",
       "      <td>NaN</td>\n",
       "      <td>-0.072960</td>\n",
       "      <td>-0.126156</td>\n",
       "    </tr>\n",
       "    <tr>\n",
       "      <th>available_credit</th>\n",
       "      <td>0.200754</td>\n",
       "      <td>1.000000</td>\n",
       "      <td>-0.191735</td>\n",
       "      <td>-0.108138</td>\n",
       "      <td>-0.048590</td>\n",
       "      <td>0.259626</td>\n",
       "      <td>0.259626</td>\n",
       "      <td>-0.131996</td>\n",
       "      <td>0.090221</td>\n",
       "      <td>0.062840</td>\n",
       "      <td>NaN</td>\n",
       "      <td>-0.087591</td>\n",
       "      <td>-0.304381</td>\n",
       "    </tr>\n",
       "    <tr>\n",
       "      <th>balance</th>\n",
       "      <td>0.470852</td>\n",
       "      <td>-0.191735</td>\n",
       "      <td>1.000000</td>\n",
       "      <td>0.134496</td>\n",
       "      <td>0.088939</td>\n",
       "      <td>-0.023734</td>\n",
       "      <td>-0.023734</td>\n",
       "      <td>0.089214</td>\n",
       "      <td>0.036887</td>\n",
       "      <td>0.031938</td>\n",
       "      <td>NaN</td>\n",
       "      <td>0.018581</td>\n",
       "      <td>0.139543</td>\n",
       "    </tr>\n",
       "    <tr>\n",
       "      <th>sum_failed_repayments</th>\n",
       "      <td>-0.050497</td>\n",
       "      <td>-0.108138</td>\n",
       "      <td>0.134496</td>\n",
       "      <td>1.000000</td>\n",
       "      <td>0.754314</td>\n",
       "      <td>-0.053152</td>\n",
       "      <td>-0.053152</td>\n",
       "      <td>0.124152</td>\n",
       "      <td>-0.003615</td>\n",
       "      <td>-0.016402</td>\n",
       "      <td>NaN</td>\n",
       "      <td>0.089163</td>\n",
       "      <td>0.359577</td>\n",
       "    </tr>\n",
       "    <tr>\n",
       "      <th>max_failed_repayments</th>\n",
       "      <td>-0.004413</td>\n",
       "      <td>-0.048590</td>\n",
       "      <td>0.088939</td>\n",
       "      <td>0.754314</td>\n",
       "      <td>1.000000</td>\n",
       "      <td>0.008776</td>\n",
       "      <td>0.008776</td>\n",
       "      <td>0.073104</td>\n",
       "      <td>-0.000584</td>\n",
       "      <td>0.000081</td>\n",
       "      <td>NaN</td>\n",
       "      <td>0.052780</td>\n",
       "      <td>0.204648</td>\n",
       "    </tr>\n",
       "    <tr>\n",
       "      <th>credit_score</th>\n",
       "      <td>0.041153</td>\n",
       "      <td>0.259626</td>\n",
       "      <td>-0.023734</td>\n",
       "      <td>-0.053152</td>\n",
       "      <td>0.008776</td>\n",
       "      <td>1.000000</td>\n",
       "      <td>1.000000</td>\n",
       "      <td>-0.241675</td>\n",
       "      <td>0.054105</td>\n",
       "      <td>0.041759</td>\n",
       "      <td>NaN</td>\n",
       "      <td>-0.036495</td>\n",
       "      <td>-0.190221</td>\n",
       "    </tr>\n",
       "    <tr>\n",
       "      <th>external score</th>\n",
       "      <td>0.041153</td>\n",
       "      <td>0.259626</td>\n",
       "      <td>-0.023734</td>\n",
       "      <td>-0.053152</td>\n",
       "      <td>0.008776</td>\n",
       "      <td>1.000000</td>\n",
       "      <td>1.000000</td>\n",
       "      <td>-0.241675</td>\n",
       "      <td>0.054105</td>\n",
       "      <td>0.041759</td>\n",
       "      <td>NaN</td>\n",
       "      <td>-0.036495</td>\n",
       "      <td>-0.190221</td>\n",
       "    </tr>\n",
       "    <tr>\n",
       "      <th>credit_inquiries_count</th>\n",
       "      <td>-0.010887</td>\n",
       "      <td>-0.131996</td>\n",
       "      <td>0.089214</td>\n",
       "      <td>0.124152</td>\n",
       "      <td>0.073104</td>\n",
       "      <td>-0.241675</td>\n",
       "      <td>-0.241675</td>\n",
       "      <td>1.000000</td>\n",
       "      <td>0.017915</td>\n",
       "      <td>-0.029656</td>\n",
       "      <td>NaN</td>\n",
       "      <td>0.078526</td>\n",
       "      <td>0.271400</td>\n",
       "    </tr>\n",
       "    <tr>\n",
       "      <th>credit_open_balance</th>\n",
       "      <td>0.057506</td>\n",
       "      <td>0.090221</td>\n",
       "      <td>0.036887</td>\n",
       "      <td>-0.003615</td>\n",
       "      <td>-0.000584</td>\n",
       "      <td>0.054105</td>\n",
       "      <td>0.054105</td>\n",
       "      <td>0.017915</td>\n",
       "      <td>1.000000</td>\n",
       "      <td>0.114438</td>\n",
       "      <td>NaN</td>\n",
       "      <td>-0.027653</td>\n",
       "      <td>-0.059264</td>\n",
       "    </tr>\n",
       "    <tr>\n",
       "      <th>years_on_file</th>\n",
       "      <td>0.027802</td>\n",
       "      <td>0.062840</td>\n",
       "      <td>0.031938</td>\n",
       "      <td>-0.016402</td>\n",
       "      <td>0.000081</td>\n",
       "      <td>0.041759</td>\n",
       "      <td>0.041759</td>\n",
       "      <td>-0.029656</td>\n",
       "      <td>0.114438</td>\n",
       "      <td>1.000000</td>\n",
       "      <td>NaN</td>\n",
       "      <td>-0.052387</td>\n",
       "      <td>-0.036325</td>\n",
       "    </tr>\n",
       "    <tr>\n",
       "      <th>missing_report</th>\n",
       "      <td>NaN</td>\n",
       "      <td>NaN</td>\n",
       "      <td>NaN</td>\n",
       "      <td>NaN</td>\n",
       "      <td>NaN</td>\n",
       "      <td>NaN</td>\n",
       "      <td>NaN</td>\n",
       "      <td>NaN</td>\n",
       "      <td>NaN</td>\n",
       "      <td>NaN</td>\n",
       "      <td>NaN</td>\n",
       "      <td>NaN</td>\n",
       "      <td>NaN</td>\n",
       "    </tr>\n",
       "    <tr>\n",
       "      <th>client_industry_unknown</th>\n",
       "      <td>-0.072960</td>\n",
       "      <td>-0.087591</td>\n",
       "      <td>0.018581</td>\n",
       "      <td>0.089163</td>\n",
       "      <td>0.052780</td>\n",
       "      <td>-0.036495</td>\n",
       "      <td>-0.036495</td>\n",
       "      <td>0.078526</td>\n",
       "      <td>-0.027653</td>\n",
       "      <td>-0.052387</td>\n",
       "      <td>NaN</td>\n",
       "      <td>1.000000</td>\n",
       "      <td>0.242918</td>\n",
       "    </tr>\n",
       "    <tr>\n",
       "      <th>tag_in_six_months</th>\n",
       "      <td>-0.126156</td>\n",
       "      <td>-0.304381</td>\n",
       "      <td>0.139543</td>\n",
       "      <td>0.359577</td>\n",
       "      <td>0.204648</td>\n",
       "      <td>-0.190221</td>\n",
       "      <td>-0.190221</td>\n",
       "      <td>0.271400</td>\n",
       "      <td>-0.059264</td>\n",
       "      <td>-0.036325</td>\n",
       "      <td>NaN</td>\n",
       "      <td>0.242918</td>\n",
       "      <td>1.000000</td>\n",
       "    </tr>\n",
       "  </tbody>\n",
       "</table>\n",
       "</div>"
      ],
      "text/plain": [
       "                              recent_successful_repayments  available_credit  \\\n",
       "recent_successful_repayments                      1.000000          0.200754   \n",
       "available_credit                                  0.200754          1.000000   \n",
       "balance                                           0.470852         -0.191735   \n",
       "sum_failed_repayments                            -0.050497         -0.108138   \n",
       "max_failed_repayments                            -0.004413         -0.048590   \n",
       "credit_score                                      0.041153          0.259626   \n",
       "external score                                    0.041153          0.259626   \n",
       "credit_inquiries_count                           -0.010887         -0.131996   \n",
       "credit_open_balance                               0.057506          0.090221   \n",
       "years_on_file                                     0.027802          0.062840   \n",
       "missing_report                                         NaN               NaN   \n",
       "client_industry_unknown                          -0.072960         -0.087591   \n",
       "tag_in_six_months                                -0.126156         -0.304381   \n",
       "\n",
       "                               balance  sum_failed_repayments   \\\n",
       "recent_successful_repayments  0.470852               -0.050497   \n",
       "available_credit             -0.191735               -0.108138   \n",
       "balance                       1.000000                0.134496   \n",
       "sum_failed_repayments         0.134496                1.000000   \n",
       "max_failed_repayments         0.088939                0.754314   \n",
       "credit_score                 -0.023734               -0.053152   \n",
       "external score               -0.023734               -0.053152   \n",
       "credit_inquiries_count        0.089214                0.124152   \n",
       "credit_open_balance           0.036887               -0.003615   \n",
       "years_on_file                 0.031938               -0.016402   \n",
       "missing_report                     NaN                     NaN   \n",
       "client_industry_unknown       0.018581                0.089163   \n",
       "tag_in_six_months             0.139543                0.359577   \n",
       "\n",
       "                              max_failed_repayments  credit_score  \\\n",
       "recent_successful_repayments              -0.004413      0.041153   \n",
       "available_credit                          -0.048590      0.259626   \n",
       "balance                                    0.088939     -0.023734   \n",
       "sum_failed_repayments                      0.754314     -0.053152   \n",
       "max_failed_repayments                      1.000000      0.008776   \n",
       "credit_score                               0.008776      1.000000   \n",
       "external score                             0.008776      1.000000   \n",
       "credit_inquiries_count                     0.073104     -0.241675   \n",
       "credit_open_balance                       -0.000584      0.054105   \n",
       "years_on_file                              0.000081      0.041759   \n",
       "missing_report                                  NaN           NaN   \n",
       "client_industry_unknown                    0.052780     -0.036495   \n",
       "tag_in_six_months                          0.204648     -0.190221   \n",
       "\n",
       "                              external score  credit_inquiries_count  \\\n",
       "recent_successful_repayments        0.041153               -0.010887   \n",
       "available_credit                    0.259626               -0.131996   \n",
       "balance                            -0.023734                0.089214   \n",
       "sum_failed_repayments              -0.053152                0.124152   \n",
       "max_failed_repayments               0.008776                0.073104   \n",
       "credit_score                        1.000000               -0.241675   \n",
       "external score                      1.000000               -0.241675   \n",
       "credit_inquiries_count             -0.241675                1.000000   \n",
       "credit_open_balance                 0.054105                0.017915   \n",
       "years_on_file                       0.041759               -0.029656   \n",
       "missing_report                           NaN                     NaN   \n",
       "client_industry_unknown            -0.036495                0.078526   \n",
       "tag_in_six_months                  -0.190221                0.271400   \n",
       "\n",
       "                              credit_open_balance  years_on_file  \\\n",
       "recent_successful_repayments             0.057506       0.027802   \n",
       "available_credit                         0.090221       0.062840   \n",
       "balance                                  0.036887       0.031938   \n",
       "sum_failed_repayments                   -0.003615      -0.016402   \n",
       "max_failed_repayments                   -0.000584       0.000081   \n",
       "credit_score                             0.054105       0.041759   \n",
       "external score                           0.054105       0.041759   \n",
       "credit_inquiries_count                   0.017915      -0.029656   \n",
       "credit_open_balance                      1.000000       0.114438   \n",
       "years_on_file                            0.114438       1.000000   \n",
       "missing_report                                NaN            NaN   \n",
       "client_industry_unknown                 -0.027653      -0.052387   \n",
       "tag_in_six_months                       -0.059264      -0.036325   \n",
       "\n",
       "                              missing_report  client_industry_unknown  \\\n",
       "recent_successful_repayments             NaN                -0.072960   \n",
       "available_credit                         NaN                -0.087591   \n",
       "balance                                  NaN                 0.018581   \n",
       "sum_failed_repayments                    NaN                 0.089163   \n",
       "max_failed_repayments                    NaN                 0.052780   \n",
       "credit_score                             NaN                -0.036495   \n",
       "external score                           NaN                -0.036495   \n",
       "credit_inquiries_count                   NaN                 0.078526   \n",
       "credit_open_balance                      NaN                -0.027653   \n",
       "years_on_file                            NaN                -0.052387   \n",
       "missing_report                           NaN                      NaN   \n",
       "client_industry_unknown                  NaN                 1.000000   \n",
       "tag_in_six_months                        NaN                 0.242918   \n",
       "\n",
       "                              tag_in_six_months  \n",
       "recent_successful_repayments          -0.126156  \n",
       "available_credit                      -0.304381  \n",
       "balance                                0.139543  \n",
       "sum_failed_repayments                  0.359577  \n",
       "max_failed_repayments                  0.204648  \n",
       "credit_score                          -0.190221  \n",
       "external score                        -0.190221  \n",
       "credit_inquiries_count                 0.271400  \n",
       "credit_open_balance                   -0.059264  \n",
       "years_on_file                         -0.036325  \n",
       "missing_report                              NaN  \n",
       "client_industry_unknown                0.242918  \n",
       "tag_in_six_months                      1.000000  "
      ]
     },
     "execution_count": 47,
     "metadata": {},
     "output_type": "execute_result"
    }
   ],
   "source": [
    "# Correlation coefficients \n",
    "data[feature_list + ['tag_in_six_months']].corr()"
   ]
  },
  {
   "cell_type": "code",
   "execution_count": 48,
   "metadata": {},
   "outputs": [
    {
     "data": {
      "image/png": "[encoded data removed]",
      "text/plain": [
       "<matplotlib.figure.Figure at 0x10b17a240>"
      ]
     },
     "metadata": {},
     "output_type": "display_data"
    }
   ],
   "source": [
    "# Check the linear dependence between credit_score and external score\n",
    "plt.plot(data['credit_score'], data['external score'],'.')\n",
    "plt.xlabel('credit_score')\n",
    "plt.ylabel('external_score')\n",
    "plt.show()"
   ]
  },
  {
   "cell_type": "code",
   "execution_count": 49,
   "metadata": {},
   "outputs": [
    {
     "data": {
      "text/plain": [
       "['recent_successful_repayments',\n",
       " 'available_credit',\n",
       " 'balance',\n",
       " 'sum_failed_repayments ',\n",
       " 'max_failed_repayments',\n",
       " 'credit_score',\n",
       " 'credit_inquiries_count',\n",
       " 'credit_open_balance',\n",
       " 'years_on_file',\n",
       " 'client_industry_unknown']"
      ]
     },
     "execution_count": 49,
     "metadata": {},
     "output_type": "execute_result"
    }
   ],
   "source": [
    "# Drop 'external score', 'max_failed_repayments' due to high correlation, and 'missing_report'\n",
    "feature_list.remove('external score')\n",
    "feature_list.remove('missing_report')\n",
    "feature_list"
   ]
  },
  {
   "cell_type": "code",
   "execution_count": 50,
   "metadata": {},
   "outputs": [
    {
     "data": {
      "image/png": "[encoded data removed]",
      "text/plain": [
       "<matplotlib.figure.Figure at 0x10adebf98>"
      ]
     },
     "metadata": {},
     "output_type": "display_data"
    }
   ],
   "source": [
    "# How well each feature can separate between two classes based on value distribution   \n",
    "sns.set()\n",
    "plt.figure(figsize = (15,10))\n",
    "count = 0\n",
    "for feature in feature_list[0:6]: \n",
    "    plt.subplot(str(23) + str(count))\n",
    "    count += 1\n",
    "    plt.hist(data[data['tag_in_six_months']==0][feature], alpha=0.5, label='0', density = True)\n",
    "    plt.hist(data[data['tag_in_six_months']==1][feature], alpha=0.5, label='1', density = True, color = 'orangered')\n",
    "    plt.xlabel(feature, fontsize=12)\n",
    "    plt.ylabel('Frequency')\n",
    "    plt.legend(loc='upper right')\n"
   ]
  },
  {
   "cell_type": "code",
   "execution_count": 51,
   "metadata": {},
   "outputs": [
    {
     "data": {
      "image/png": "[encoded data removed]",
      "text/plain": [
       "<matplotlib.figure.Figure at 0x10a8c5080>"
      ]
     },
     "metadata": {},
     "output_type": "display_data"
    }
   ],
   "source": [
    "# How well each feature can separate between two classes based on value distribution - continue\n",
    "sns.set()\n",
    "plt.figure(figsize = (15,5))\n",
    "count = 0\n",
    "for feature in feature_list[6:]: \n",
    "    plt.subplot(str(14) + str(count))\n",
    "    count += 1\n",
    "    plt.hist(data[data['tag_in_six_months']==0][feature], alpha=0.5, label='0', density = True)\n",
    "    plt.hist(data[data['tag_in_six_months']==1][feature], alpha=0.5, label='1', density = True, color = 'orangered')\n",
    "    plt.xlabel(feature, fontsize=12)\n",
    "    plt.ylabel('Frequency')\n",
    "    plt.legend(loc='upper right')\n"
   ]
  },
  {
   "cell_type": "markdown",
   "metadata": {},
   "source": [
    "## Modeling\n",
    "\n",
    "This is a binary classification problem on an imbalance dataset. Since there are both categorical and continuous variables with different distributions and also correlation among variables, I choose random forest (RF) - a tree based model - to start with.\n",
    "\n",
    "For a quick implementation as a proof-of-concept, I won't do any model hyperparameter tuning, model selection, or cross validation. I'll use a simple default RF to train on 80% of the dataset and then evaluate and compare on the remain 20% data the trained model to the result from the current CompanyX model provided.\n",
    "\n",
    "The metrics for evaluation include precision-recall curve and the score for the area under this curve as the dataset is unbalanced and my priority is to focus on predicting the positive class. The ROC and area-under-the-ROC curve AUC are also provided for comparison.   "
   ]
  },
  {
   "cell_type": "markdown",
   "metadata": {},
   "source": [
    "### Data splitting \n",
    "\n",
    "The dataset is split into 80/20 for training and testing. \n",
    "\n"
   ]
  },
  {
   "cell_type": "code",
   "execution_count": 52,
   "metadata": {
    "collapsed": true
   },
   "outputs": [],
   "source": [
    "# Split to 80% training and 20% test \n",
    "test_size = 0.2\n",
    "offset_test = int((1-test_size)* data.shape[0])\n",
    "idx = np.random.permutation(data.index.values)\n",
    "idx_train, idx_test = idx[:offset_test], idx[offset_test:] \n",
    "\n",
    "X_train, y_train = data.loc[idx_train, feature_list], data.loc[idx_train,'tag_in_six_months']\n",
    "X_test, y_test = data.loc[idx_test, feature_list], data.loc[idx_test,'tag_in_six_months']\n",
    "\n",
    "# Probability predicted by the current model at CompanyX\n",
    "y_train_proba_BVmodel = data.loc[idx_train,'future_bad_probability']\n",
    "y_test_proba_BVmodel = data.loc[idx_test,'future_bad_probability']"
   ]
  },
  {
   "cell_type": "markdown",
   "metadata": {},
   "source": [
    "### Random Forest model training\n",
    "\n",
    "A default simple model with a maximum depth of the tree being 5. "
   ]
  },
  {
   "cell_type": "code",
   "execution_count": 53,
   "metadata": {},
   "outputs": [
    {
     "name": "stdout",
     "output_type": "stream",
     "text": [
      "Accuracy on test set with random forrest  90.37 %\n",
      "Accuracy on training set with random forrest  92.16 %\n"
     ]
    }
   ],
   "source": [
    "from sklearn.ensemble import RandomForestClassifier\n",
    "from sklearn.metrics import accuracy_score, roc_auc_score, f1_score, roc_curve\n",
    "\n",
    "RF = RandomForestClassifier(max_depth=5, random_state=1)\n",
    "RF.fit(X_train, y_train)\n",
    "y_test_RF = RF.predict(X_test)\n",
    "y_test_proba_RF = RF.predict_proba(X_test)[:,1] # keep probabilities for the positive outcome only\n",
    "\n",
    "print('Accuracy on test set with random forrest ' ,'%.2f'  %(100*accuracy_score(y_test, y_test_RF)), '%' )\n",
    "print('Accuracy on training set with random forrest ' ,'%.2f'  %(100*accuracy_score(y_train, RF.predict(X_train))), '%' )\n"
   ]
  },
  {
   "cell_type": "markdown",
   "metadata": {},
   "source": [
    "### Model evaluation: precision-recall, ROC\n",
    "\n",
    "A simple 5-max-depth random forest model is able to get an AUC score with precision-recall curve of 0.82 compared to 0.89 by the CompanyX model.\n",
    "\n",
    "For ROC curve, the random forest model gives an AUC of 0.92 compared to 0.97 by the CompanyX model."
   ]
  },
  {
   "cell_type": "code",
   "execution_count": 54,
   "metadata": {},
   "outputs": [
    {
     "data": {
      "image/png": "[encoded data removed]",
      "text/plain": [
       "<matplotlib.figure.Figure at 0x10b614668>"
      ]
     },
     "metadata": {},
     "output_type": "display_data"
    }
   ],
   "source": [
    "# ROC curve\n",
    "from sklearn.metrics import roc_curve, auc\n",
    "\n",
    "# calculate ROC curve for the trained random forest model and the CompanyX model \n",
    "fpr_RF, tpr_RF, _ = roc_curve(y_test, y_test_proba_RF)\n",
    "fpr_BVmodel, tpr_BVmodel, _ = roc_curve(y_test, y_test_proba_BVmodel)\n",
    "\n",
    "# calculate the area under the curve score\n",
    "auc_roc_RF = auc(fpr_RF, tpr_RF)\n",
    "auc_roc_BVmodel = auc(fpr_BVmodel, tpr_BVmodel)\n",
    "\n",
    "plt.figure(figsize=(6,5))\n",
    "plt.plot(fpr_BVmodel, tpr_BVmodel, '.-', label=\"CompanyX Model, AUC = %.2f\" % (auc_roc_BVmodel))\n",
    "plt.plot(fpr_RF, tpr_RF, '.-', label=\"Random Forest, AUC = %.2f\" % (auc_roc_RF))\n",
    "plt.xlabel('False Positive Rate', fontsize=12)\n",
    "plt.ylabel('True Positive Rate', fontsize=12)\n",
    "plt.title('ROC curve', fontsize=12)\n",
    "plt.legend(loc=4)\n",
    "plt.show()"
   ]
  },
  {
   "cell_type": "code",
   "execution_count": 55,
   "metadata": {
    "scrolled": true
   },
   "outputs": [
    {
     "data": {
      "image/png": "[encoded data removed]",
      "text/plain": [
       "<matplotlib.figure.Figure at 0x10b6140f0>"
      ]
     },
     "metadata": {},
     "output_type": "display_data"
    }
   ],
   "source": [
    "# Precision-recall curve\n",
    "from sklearn.metrics import precision_recall_curve, auc\n",
    "\n",
    "# calculate precision-recall curve\n",
    "precision_RF, recall_RF, _ = precision_recall_curve(y_test,  y_test_proba_RF)\n",
    "precision_BVmodel, recall_BVmodel, _ = precision_recall_curve(y_test, y_test_proba_BVmodel)\n",
    "\n",
    "# calculate the under the curve score - AUC\n",
    "auc_RF = auc(recall_RF, precision_RF)\n",
    "auc_BVmodel = auc(recall_BVmodel, precision_BVmodel)\n",
    "\n",
    "# plot\n",
    "plt.figure(figsize=(6,5))\n",
    "plt.plot(recall_BVmodel, precision_BVmodel, marker='.',\\\n",
    "         label=\"CompanyX Model, AUC = %.2f\" % (auc_BVmodel) )\n",
    "plt.plot(recall_RF, precision_RF, marker='.',\\\n",
    "         label=\"Random Forest, AUC = %.2f\" % (auc_RF))\n",
    "plt.xlabel('Recal', fontsize=12)\n",
    "plt.ylabel('Precision', fontsize=12)\n",
    "plt.title('Precision-recal curve', fontsize=12)\n",
    "plt.legend()\n",
    "plt.show()\n"
   ]
  },
  {
   "cell_type": "code",
   "execution_count": 56,
   "metadata": {},
   "outputs": [
    {
     "data": {
      "image/png": "[encoded data removed]",
      "text/plain": [
       "<matplotlib.figure.Figure at 0x10b5a4f98>"
      ]
     },
     "metadata": {},
     "output_type": "display_data"
    }
   ],
   "source": [
    "# Visualize how well each model separates the two classes \n",
    "plt.figure(figsize=(12,5))\n",
    "\n",
    "# Random Forest model\n",
    "plt.subplot(121)\n",
    "plt.hist(y_test_proba_RF[y_test==0], \\\n",
    "         bins=np.arange(0,1.1,0.1), alpha=0.6, label='0', density = True)\n",
    "plt.hist(y_test_proba_RF[y_test==1], \\\n",
    "         bins=np.arange(0,1.1,0.1), alpha=0.6, label='1', color = 'orangered', density = True)\n",
    "plt.xlabel('Random Forest: predicted bad probability')\n",
    "plt.ylabel('Frequency')\n",
    "plt.legend(loc='upper right')\n",
    "\n",
    "# CompanyX provided result\n",
    "plt.subplot(122)\n",
    "plt.hist(y_test_proba_BVmodel[y_test==0], \\\n",
    "         bins=np.arange(0,1.1,0.1), alpha=0.6, label='0', density = True)\n",
    "plt.hist(y_test_proba_BVmodel[y_test==1], \\\n",
    "         bins=np.arange(0,1.1,0.1), alpha=0.6, label='1', color = 'orangered', density = True)\n",
    "plt.xlabel('CompanyX Model: future_bad_probability', fontsize=12)\n",
    "plt.ylabel('Frequency', fontsize=12)\n",
    "plt.legend(loc='upper right')\n",
    "\n",
    "plt.show()"
   ]
  },
  {
   "cell_type": "markdown",
   "metadata": {},
   "source": [
    "### Feature importance\n",
    "\n",
    "As expected in the correlation session above, the most important indicators for a bad client are related to amount of failed repayments and available credit, credit inquiry count."
   ]
  },
  {
   "cell_type": "code",
   "execution_count": 57,
   "metadata": {},
   "outputs": [
    {
     "data": {
      "image/png": "[encoded data removed]",
      "text/plain": [
       "<matplotlib.figure.Figure at 0x10b614080>"
      ]
     },
     "metadata": {},
     "output_type": "display_data"
    }
   ],
   "source": [
    "# create dictionary\n",
    "vdict = {}\n",
    "for ii in range(len(X_train.columns)):\n",
    "    vdict[X_train.columns[ii]] = RF.feature_importances_[ii]\n",
    "df_imp = pd.DataFrame.from_dict(vdict, orient='index')\n",
    "\n",
    "# plot weights\n",
    "df_imp.sort_values(by=0).plot.barh(figsize=(6,6))\n",
    "plt.xlabel('Weight', fontsize=12)\n",
    "plt.show()"
   ]
  }
 ],
 "metadata": {
  "kernelspec": {
   "display_name": "Python 3",
   "language": "python",
   "name": "python3"
  },
  "language_info": {
   "codemirror_mode": {
    "name": "ipython",
    "version": 3
   },
   "file_extension": ".py",
   "mimetype": "text/x-python",
   "name": "python",
   "nbconvert_exporter": "python",
   "pygments_lexer": "ipython3",
   "version": "3.6.1"
  },
  "toc": {
   "base_numbering": 1,
   "nav_menu": {},
   "number_sections": true,
   "sideBar": true,
   "skip_h1_title": false,
   "title_cell": "Table of Contents",
   "title_sidebar": "Contents",
   "toc_cell": false,
   "toc_position": {},
   "toc_section_display": true,
   "toc_window_display": true
  }
 },
 "nbformat": 4,
 "nbformat_minor": 2
}
