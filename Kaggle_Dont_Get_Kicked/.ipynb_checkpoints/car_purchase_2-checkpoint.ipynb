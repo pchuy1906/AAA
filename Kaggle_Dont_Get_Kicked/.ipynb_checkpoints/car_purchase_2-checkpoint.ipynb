{
 "cells": [
  {
   "cell_type": "code",
   "execution_count": 1,
   "metadata": {
    "_uuid": "79f2a5bec51b9ffd2eb7da22dbb6f040026aa8ba",
    "scrolled": true
   },
   "outputs": [],
   "source": [
    "# Packages for the data\n",
    "# import pandas as pd\n",
    "# import numpy as np\n",
    "\n",
    "# Package for visualization\n",
    "# import seaborn as sns\n",
    "\n",
    "# Packages for machine learning classifiers\n",
    "# from sklearn.ensemble import RandomForestClassifier, AdaBoostClassifier, VotingClassifier\n",
    "# from sklearn.neighbors import KNeighborsClassifier\n",
    "# from sklearn.model_selection import GridSearchCV, cross_val_score, StratifiedKFold"
   ]
  },
  {
   "cell_type": "code",
   "execution_count": 1,
   "metadata": {
    "_uuid": "bc1536a2d8fbce0795614d67d9205b4ab2baf132",
    "scrolled": true
   },
   "outputs": [
    {
     "name": "stdout",
     "output_type": "stream",
     "text": [
      "training set has  (72983, 34)\n",
      "test set has  (48707, 33)\n",
      "remove one column from the training set\n"
     ]
    },
    {
     "data": {
      "text/plain": [
       "RefId                                     0\n",
       "PurchDate                                 0\n",
       "Auction                                   0\n",
       "VehYear                                   0\n",
       "VehicleAge                                0\n",
       "Make                                      0\n",
       "Model                                     0\n",
       "Trim                                   3910\n",
       "SubModel                                 13\n",
       "Color                                    12\n",
       "Transmission                             12\n",
       "WheelTypeID                            5357\n",
       "WheelType                              5362\n",
       "VehOdo                                    0\n",
       "Nationality                              12\n",
       "Size                                     12\n",
       "TopThreeAmericanName                     12\n",
       "MMRAcquisitionAuctionAveragePrice        28\n",
       "MMRAcquisitionAuctionCleanPrice          28\n",
       "MMRAcquisitionRetailAveragePrice         28\n",
       "MMRAcquisitonRetailCleanPrice            28\n",
       "MMRCurrentAuctionAveragePrice           458\n",
       "MMRCurrentAuctionCleanPrice             458\n",
       "MMRCurrentRetailAveragePrice            458\n",
       "MMRCurrentRetailCleanPrice              458\n",
       "PRIMEUNIT                            115755\n",
       "AUCGUART                             115755\n",
       "BYRNO                                     0\n",
       "VNZIP1                                    0\n",
       "VNST                                      0\n",
       "VehBCost                                  0\n",
       "IsOnlineSale                              0\n",
       "WarrantyCost                              0\n",
       "dtype: int64"
      ]
     },
     "execution_count": 1,
     "metadata": {},
     "output_type": "execute_result"
    }
   ],
   "source": [
    "# Read the data into dataframes\n",
    "import pandas as pd\n",
    "\n",
    "train_df = pd.read_csv('training.csv')\n",
    "print (\"training set has \", train_df.shape)\n",
    "test_df = pd.read_csv('test.csv')\n",
    "print (\"test set has \", test_df.shape)\n",
    "ntest = test_df.shape[0]\n",
    "\n",
    "print (\"remove one column from the training set\")\n",
    "\n",
    "Ytrain = train_df['IsBadBuy']\n",
    "train_df = train_df.drop(columns=['IsBadBuy'])\n",
    "\n",
    "# Put all data together so we can wrangle all the data at the same time\n",
    "all_data = pd.concat([train_df, test_df], ignore_index=True)\n",
    "all_data.isnull().sum()\n",
    "\n"
   ]
  },
  {
   "cell_type": "code",
   "execution_count": 3,
   "metadata": {},
   "outputs": [
    {
     "data": {
      "text/html": [
       "<div>\n",
       "<style scoped>\n",
       "    .dataframe tbody tr th:only-of-type {\n",
       "        vertical-align: middle;\n",
       "    }\n",
       "\n",
       "    .dataframe tbody tr th {\n",
       "        vertical-align: top;\n",
       "    }\n",
       "\n",
       "    .dataframe thead th {\n",
       "        text-align: right;\n",
       "    }\n",
       "</style>\n",
       "<table border=\"1\" class=\"dataframe\">\n",
       "  <thead>\n",
       "    <tr style=\"text-align: right;\">\n",
       "      <th></th>\n",
       "      <th>RefId</th>\n",
       "      <th>PurchDate</th>\n",
       "      <th>Auction</th>\n",
       "      <th>VehYear</th>\n",
       "      <th>VehicleAge</th>\n",
       "      <th>Make</th>\n",
       "      <th>Model</th>\n",
       "      <th>Trim</th>\n",
       "      <th>SubModel</th>\n",
       "      <th>Color</th>\n",
       "      <th>...</th>\n",
       "      <th>MMRCurrentRetailAveragePrice</th>\n",
       "      <th>MMRCurrentRetailCleanPrice</th>\n",
       "      <th>PRIMEUNIT</th>\n",
       "      <th>AUCGUART</th>\n",
       "      <th>BYRNO</th>\n",
       "      <th>VNZIP1</th>\n",
       "      <th>VNST</th>\n",
       "      <th>VehBCost</th>\n",
       "      <th>IsOnlineSale</th>\n",
       "      <th>WarrantyCost</th>\n",
       "    </tr>\n",
       "  </thead>\n",
       "  <tbody>\n",
       "    <tr>\n",
       "      <th>0</th>\n",
       "      <td>1</td>\n",
       "      <td>12/7/2009</td>\n",
       "      <td>ADESA</td>\n",
       "      <td>2006</td>\n",
       "      <td>3</td>\n",
       "      <td>MAZDA</td>\n",
       "      <td>MAZDA3</td>\n",
       "      <td>i</td>\n",
       "      <td>4D SEDAN I</td>\n",
       "      <td>RED</td>\n",
       "      <td>...</td>\n",
       "      <td>11597.0</td>\n",
       "      <td>12409.0</td>\n",
       "      <td>NaN</td>\n",
       "      <td>NaN</td>\n",
       "      <td>21973</td>\n",
       "      <td>33619</td>\n",
       "      <td>FL</td>\n",
       "      <td>7100.0</td>\n",
       "      <td>0</td>\n",
       "      <td>1113</td>\n",
       "    </tr>\n",
       "    <tr>\n",
       "      <th>1</th>\n",
       "      <td>2</td>\n",
       "      <td>12/7/2009</td>\n",
       "      <td>ADESA</td>\n",
       "      <td>2004</td>\n",
       "      <td>5</td>\n",
       "      <td>DODGE</td>\n",
       "      <td>1500 RAM PICKUP 2WD</td>\n",
       "      <td>ST</td>\n",
       "      <td>QUAD CAB 4.7L SLT</td>\n",
       "      <td>WHITE</td>\n",
       "      <td>...</td>\n",
       "      <td>11374.0</td>\n",
       "      <td>12791.0</td>\n",
       "      <td>NaN</td>\n",
       "      <td>NaN</td>\n",
       "      <td>19638</td>\n",
       "      <td>33619</td>\n",
       "      <td>FL</td>\n",
       "      <td>7600.0</td>\n",
       "      <td>0</td>\n",
       "      <td>1053</td>\n",
       "    </tr>\n",
       "    <tr>\n",
       "      <th>2</th>\n",
       "      <td>3</td>\n",
       "      <td>12/7/2009</td>\n",
       "      <td>ADESA</td>\n",
       "      <td>2005</td>\n",
       "      <td>4</td>\n",
       "      <td>DODGE</td>\n",
       "      <td>STRATUS V6</td>\n",
       "      <td>SXT</td>\n",
       "      <td>4D SEDAN SXT FFV</td>\n",
       "      <td>MAROON</td>\n",
       "      <td>...</td>\n",
       "      <td>7146.0</td>\n",
       "      <td>8702.0</td>\n",
       "      <td>NaN</td>\n",
       "      <td>NaN</td>\n",
       "      <td>19638</td>\n",
       "      <td>33619</td>\n",
       "      <td>FL</td>\n",
       "      <td>4900.0</td>\n",
       "      <td>0</td>\n",
       "      <td>1389</td>\n",
       "    </tr>\n",
       "    <tr>\n",
       "      <th>3</th>\n",
       "      <td>4</td>\n",
       "      <td>12/7/2009</td>\n",
       "      <td>ADESA</td>\n",
       "      <td>2004</td>\n",
       "      <td>5</td>\n",
       "      <td>DODGE</td>\n",
       "      <td>NEON</td>\n",
       "      <td>SXT</td>\n",
       "      <td>4D SEDAN</td>\n",
       "      <td>SILVER</td>\n",
       "      <td>...</td>\n",
       "      <td>4375.0</td>\n",
       "      <td>5518.0</td>\n",
       "      <td>NaN</td>\n",
       "      <td>NaN</td>\n",
       "      <td>19638</td>\n",
       "      <td>33619</td>\n",
       "      <td>FL</td>\n",
       "      <td>4100.0</td>\n",
       "      <td>0</td>\n",
       "      <td>630</td>\n",
       "    </tr>\n",
       "    <tr>\n",
       "      <th>4</th>\n",
       "      <td>5</td>\n",
       "      <td>12/7/2009</td>\n",
       "      <td>ADESA</td>\n",
       "      <td>2005</td>\n",
       "      <td>4</td>\n",
       "      <td>FORD</td>\n",
       "      <td>FOCUS</td>\n",
       "      <td>ZX3</td>\n",
       "      <td>2D COUPE ZX3</td>\n",
       "      <td>SILVER</td>\n",
       "      <td>...</td>\n",
       "      <td>6739.0</td>\n",
       "      <td>7911.0</td>\n",
       "      <td>NaN</td>\n",
       "      <td>NaN</td>\n",
       "      <td>19638</td>\n",
       "      <td>33619</td>\n",
       "      <td>FL</td>\n",
       "      <td>4000.0</td>\n",
       "      <td>0</td>\n",
       "      <td>1020</td>\n",
       "    </tr>\n",
       "  </tbody>\n",
       "</table>\n",
       "<p>5 rows × 33 columns</p>\n",
       "</div>"
      ],
      "text/plain": [
       "   RefId  PurchDate Auction  VehYear  VehicleAge   Make                Model  \\\n",
       "0      1  12/7/2009   ADESA     2006           3  MAZDA               MAZDA3   \n",
       "1      2  12/7/2009   ADESA     2004           5  DODGE  1500 RAM PICKUP 2WD   \n",
       "2      3  12/7/2009   ADESA     2005           4  DODGE           STRATUS V6   \n",
       "3      4  12/7/2009   ADESA     2004           5  DODGE                 NEON   \n",
       "4      5  12/7/2009   ADESA     2005           4   FORD                FOCUS   \n",
       "\n",
       "  Trim           SubModel   Color      ...      MMRCurrentRetailAveragePrice  \\\n",
       "0    i         4D SEDAN I     RED      ...                           11597.0   \n",
       "1   ST  QUAD CAB 4.7L SLT   WHITE      ...                           11374.0   \n",
       "2  SXT   4D SEDAN SXT FFV  MAROON      ...                            7146.0   \n",
       "3  SXT           4D SEDAN  SILVER      ...                            4375.0   \n",
       "4  ZX3       2D COUPE ZX3  SILVER      ...                            6739.0   \n",
       "\n",
       "   MMRCurrentRetailCleanPrice PRIMEUNIT  AUCGUART  BYRNO VNZIP1 VNST  \\\n",
       "0                     12409.0       NaN       NaN  21973  33619   FL   \n",
       "1                     12791.0       NaN       NaN  19638  33619   FL   \n",
       "2                      8702.0       NaN       NaN  19638  33619   FL   \n",
       "3                      5518.0       NaN       NaN  19638  33619   FL   \n",
       "4                      7911.0       NaN       NaN  19638  33619   FL   \n",
       "\n",
       "   VehBCost  IsOnlineSale  WarrantyCost  \n",
       "0    7100.0             0          1113  \n",
       "1    7600.0             0          1053  \n",
       "2    4900.0             0          1389  \n",
       "3    4100.0             0           630  \n",
       "4    4000.0             0          1020  \n",
       "\n",
       "[5 rows x 33 columns]"
      ]
     },
     "execution_count": 3,
     "metadata": {},
     "output_type": "execute_result"
    }
   ],
   "source": [
    "all_data.head()"
   ]
  },
  {
   "cell_type": "markdown",
   "metadata": {
    "_uuid": "5e14a4a6c7dc7d5fbd21e58e43d71256357733f4"
   },
   "source": [
    "### A. Drop the unimportant stuff"
   ]
  },
  {
   "cell_type": "code",
   "execution_count": 4,
   "metadata": {
    "_uuid": "b37b06030bc2581722bd2d98752e498fc5b6627f",
    "scrolled": false
   },
   "outputs": [],
   "source": [
    "all_data.drop(labels='AUCGUART', axis='columns', inplace=True)\n",
    "all_data.drop(labels='PRIMEUNIT', axis='columns', inplace=True)\n",
    "all_data.drop(labels='RefId', axis='columns', inplace=True)\n"
   ]
  },
  {
   "cell_type": "markdown",
   "metadata": {
    "_uuid": "7e55734ef4c3fa2460d01deaa351113e66c5ee74"
   },
   "source": [
    "### B. Observe missing values\n",
    "\n",
    "<p>Let's take a look at what missing values we'll have to handle.</p>"
   ]
  },
  {
   "cell_type": "code",
   "execution_count": 5,
   "metadata": {},
   "outputs": [
    {
     "data": {
      "text/plain": [
       "PurchDate                            0\n",
       "Auction                              0\n",
       "VehYear                              0\n",
       "VehicleAge                           0\n",
       "Make                                 0\n",
       "Model                                0\n",
       "Trim                                 0\n",
       "SubModel                             0\n",
       "Color                                0\n",
       "Transmission                         0\n",
       "WheelTypeID                          0\n",
       "WheelType                            0\n",
       "VehOdo                               0\n",
       "Nationality                          0\n",
       "Size                                 0\n",
       "TopThreeAmericanName                 0\n",
       "MMRAcquisitionAuctionAveragePrice    0\n",
       "MMRAcquisitionAuctionCleanPrice      0\n",
       "MMRAcquisitionRetailAveragePrice     0\n",
       "MMRAcquisitonRetailCleanPrice        0\n",
       "MMRCurrentAuctionAveragePrice        0\n",
       "MMRCurrentAuctionCleanPrice          0\n",
       "MMRCurrentRetailAveragePrice         0\n",
       "MMRCurrentRetailCleanPrice           0\n",
       "BYRNO                                0\n",
       "VNZIP1                               0\n",
       "VNST                                 0\n",
       "VehBCost                             0\n",
       "IsOnlineSale                         0\n",
       "WarrantyCost                         0\n",
       "dtype: int64"
      ]
     },
     "execution_count": 5,
     "metadata": {},
     "output_type": "execute_result"
    }
   ],
   "source": [
    "all_isnull = all_data.columns[all_data.isnull().any()]\n",
    "for col in all_isnull:\n",
    "    try:\n",
    "        all_data[col].fillna(all_data[col].mode()[0], inplace=True)\n",
    "    except:\n",
    "        all_data[col].fillna(all_data[col].median(), inplace=True)\n",
    "all_data.isnull().sum()"
   ]
  },
  {
   "cell_type": "code",
   "execution_count": 6,
   "metadata": {},
   "outputs": [
    {
     "name": "stdout",
     "output_type": "stream",
     "text": [
      "['PurchDate', 'Auction', 'Make', 'Model', 'Trim', 'SubModel', 'Color', 'Transmission', 'WheelType', 'Nationality', 'Size', 'TopThreeAmericanName', 'VNST']\n",
      "PurchDate 519\n",
      "Auction 3\n",
      "['ADESA' 'OTHER' 'MANHEIM']\n",
      "Make 33\n",
      "['MAZDA' 'DODGE' 'FORD' 'MITSUBISHI' 'KIA' 'GMC' 'NISSAN' 'CHEVROLET'\n",
      " 'SATURN' 'CHRYSLER' 'MERCURY' 'HYUNDAI' 'TOYOTA' 'PONTIAC' 'SUZUKI'\n",
      " 'JEEP' 'HONDA' 'OLDSMOBILE' 'BUICK' 'SCION' 'VOLKSWAGEN' 'ISUZU'\n",
      " 'LINCOLN' 'MINI' 'SUBARU' 'CADILLAC' 'VOLVO' 'INFINITI' 'PLYMOUTH'\n",
      " 'LEXUS' 'ACURA' 'TOYOTA SCION' 'HUMMER']\n",
      "Model 1130\n",
      "Trim 137\n",
      "SubModel 933\n",
      "Color 17\n",
      "['RED' 'WHITE' 'MAROON' 'SILVER' 'BLACK' 'GOLD' 'GREY' 'BLUE' 'BEIGE'\n",
      " 'PURPLE' 'ORANGE' 'GREEN' 'BROWN' 'YELLOW' 'NOT AVAIL' 'OTHER' 'PINK']\n",
      "Transmission 3\n",
      "['AUTO' 'MANUAL' 'Manual']\n",
      "WheelType 3\n",
      "['Alloy' 'Covers' 'Special']\n",
      "Nationality 4\n",
      "['OTHER ASIAN' 'AMERICAN' 'TOP LINE ASIAN' 'OTHER']\n",
      "Size 12\n",
      "['MEDIUM' 'LARGE TRUCK' 'COMPACT' 'LARGE' 'VAN' 'MEDIUM SUV' 'LARGE SUV'\n",
      " 'SPECIALTY' 'SPORTS' 'CROSSOVER' 'SMALL SUV' 'SMALL TRUCK']\n",
      "TopThreeAmericanName 4\n",
      "['OTHER' 'CHRYSLER' 'FORD' 'GM']\n",
      "VNST 38\n",
      "['FL' 'VA' 'IA' 'AR' 'MN' 'TN' 'PA' 'OH' 'AL' 'MI' 'TX' 'IL' 'MA' 'AZ'\n",
      " 'GA' 'NC' 'MD' 'CA' 'UT' 'OR' 'SC' 'CO' 'ID' 'NV' 'WV' 'MS' 'OK' 'NM'\n",
      " 'LA' 'IN' 'MO' 'WA' 'NH' 'NJ' 'NY' 'NE' 'KY' 'WI']\n"
     ]
    }
   ],
   "source": [
    "import category_encoders as ce\n",
    "nonList = list(all_data.select_dtypes(include=[np.object]))\n",
    "print (nonList)\n",
    "\n",
    "all_data2 = all_data.copy()\n",
    "\n",
    "for this_label in nonList:\n",
    "    \n",
    "    encoder = ce.BinaryEncoder(cols=[this_label])\n",
    "    \n",
    "    all_data2 = encoder.fit_transform(all_data2)    \n",
    "    \n",
    "    print (this_label, len(all_data[this_label].unique()))\n",
    "    if (len(all_data[this_label].unique()) < 40):\n",
    "        print (all_data[this_label].unique())\n",
    "    "
   ]
  },
  {
   "cell_type": "markdown",
   "metadata": {
    "_uuid": "da3da259df43ee819735f558d677348c33641d49"
   },
   "source": [
    "## 4. Diving in (machine learning)\n",
    "\n",
    "<p>Now that the data has been properly cleaned, we can try to find a model that works well for making our predictions. We'll first split our training set into the features (Xtrain) and the results (Ytrain). We'll also load in some classifiers which we will compare.</p>"
   ]
  },
  {
   "cell_type": "code",
   "execution_count": 7,
   "metadata": {
    "_uuid": "45e81048fd2b50e44ca687582f9900520d1e6392",
    "scrolled": true
   },
   "outputs": [],
   "source": [
    "Xtrain = all_data2.head(len(Ytrain))\n",
    "\n",
    "RFC = RandomForestClassifier()\n",
    "Ada = AdaBoostClassifier()\n",
    "KNN = KNeighborsClassifier()\n",
    "classifiers = [RFC, Ada, KNN]\n",
    "clf_names = ['Random Forest', 'AdaBoost', 'K Nearest Neighbors']"
   ]
  },
  {
   "cell_type": "markdown",
   "metadata": {
    "_uuid": "2573510f0de967cf3741b0963345784f32caaa30"
   },
   "source": [
    "<p>For this analysis, we'll only be comparing across three classifiers: Random Forest, AdaBoost, and K Nearest Neighbors. For more information on other potential (or more complicated) classifiers I invite you to check out the other kernels posted by those who top the leaderboards for this competition.</p>\n",
    "\n",
    "<p>For each of these classifiers, we'll want to make sure we create the models with the optimal parameters. We can do this with a Grid Search. We define the set of parameters we want to scan for each type of classifier, and then run our grid searches.</p>"
   ]
  },
  {
   "cell_type": "code",
   "execution_count": 8,
   "metadata": {
    "_uuid": "a322b47a7dc1d0147ffbd3fcd3241366fe438af6"
   },
   "outputs": [],
   "source": [
    "# Use kfold as our cross validation\n",
    "kfold = StratifiedKFold(n_splits=4)\n",
    "\n",
    "# Set grid search parameter settings\n",
    "rfc_param_grid = {'max_depth': [None],\n",
    "                 'max_features': [1],\n",
    "                 'min_samples_split': [2],\n",
    "                 'min_samples_leaf': [1],\n",
    "                 'bootstrap': [False],\n",
    "                 'n_estimators': [100],\n",
    "                 'criterion': ['gini']}\n",
    "ada_param_grid = {'n_estimators': [20],\n",
    "                 'learning_rate': [0.0001, 0.001, 0.01, 0.1, 1, 10]}\n",
    "knn_param_grid = {'n_neighbors': [5],\n",
    "                  'weights': ['uniform', 'distance'],\n",
    "                 'leaf_size': [5]}\n",
    "param_grids = [rfc_param_grid, ada_param_grid, knn_param_grid]\n",
    "\n",
    "# Perform grid searches to get estimators with the optimal settings\n",
    "grid_searches = []\n",
    "for i in range(len(classifiers)):\n",
    "    grid_searches.append(GridSearchCV(estimator=classifiers[i], param_grid=param_grids[i], \n",
    "                                      n_jobs=4, cv=kfold, verbose=1))"
   ]
  },
  {
   "cell_type": "markdown",
   "metadata": {
    "_uuid": "d632d4a7bf7c566b139aa09ac56d12cbfdf10116"
   },
   "source": [
    "<p>We'll now want to see the training scores for each of our models and determine which one works the best. We'll fit each model to our training set and add the best scores from each to a list.</p>"
   ]
  },
  {
   "cell_type": "code",
   "execution_count": 9,
   "metadata": {
    "_uuid": "9f8452618656ef1a841d1a7ce1f69478f0d963ef"
   },
   "outputs": [
    {
     "name": "stdout",
     "output_type": "stream",
     "text": [
      "Fitting 4 folds for each of 1 candidates, totalling 4 fits\n"
     ]
    },
    {
     "name": "stderr",
     "output_type": "stream",
     "text": [
      "[Parallel(n_jobs=4)]: Using backend LokyBackend with 4 concurrent workers.\n",
      "[Parallel(n_jobs=4)]: Done   2 out of   4 | elapsed:  1.1min remaining:  1.1min\n",
      "[Parallel(n_jobs=4)]: Done   4 out of   4 | elapsed:  1.1min finished\n"
     ]
    },
    {
     "name": "stdout",
     "output_type": "stream",
     "text": [
      "Fitting 4 folds for each of 6 candidates, totalling 24 fits\n"
     ]
    },
    {
     "name": "stderr",
     "output_type": "stream",
     "text": [
      "[Parallel(n_jobs=4)]: Using backend LokyBackend with 4 concurrent workers.\n",
      "[Parallel(n_jobs=4)]: Done  24 out of  24 | elapsed:   35.2s finished\n"
     ]
    },
    {
     "name": "stdout",
     "output_type": "stream",
     "text": [
      "Fitting 4 folds for each of 2 candidates, totalling 8 fits\n"
     ]
    },
    {
     "name": "stderr",
     "output_type": "stream",
     "text": [
      "[Parallel(n_jobs=4)]: Using backend LokyBackend with 4 concurrent workers.\n",
      "[Parallel(n_jobs=4)]: Done   8 out of   8 | elapsed:  2.0min finished\n"
     ]
    }
   ],
   "source": [
    "# Train the models\n",
    "best_scores = []\n",
    "for i in range(len(grid_searches)):\n",
    "    grid_searches[i].fit(Xtrain, Ytrain)\n",
    "    best_scores.append(grid_searches[i].best_score_)"
   ]
  },
  {
   "cell_type": "markdown",
   "metadata": {
    "_uuid": "f499d641ff0414737da2c8e64339934c034dd968"
   },
   "source": [
    "<p>Let's see the best scores for each classifier.</p>"
   ]
  },
  {
   "cell_type": "code",
   "execution_count": 10,
   "metadata": {
    "_uuid": "242a20ab1d09bd77b8082086be53cff9c12ce541"
   },
   "outputs": [
    {
     "name": "stdout",
     "output_type": "stream",
     "text": [
      "Random Forest: 0.8745050217173862\n",
      "AdaBoost: 0.8771905786278996\n",
      "K Nearest Neighbors: 0.8560486688680926\n"
     ]
    }
   ],
   "source": [
    "# Best scores\n",
    "for i in range(len(best_scores)):\n",
    "    print(clf_names[i] + \": \" + str(best_scores[i]))"
   ]
  },
  {
   "cell_type": "markdown",
   "metadata": {
    "_uuid": "763ba583c7e203ca3d44f39ce89cfd6d7c0c0e5a"
   },
   "source": [
    "<p>Based on these training scores, it makes the most sense to use the Random Forest Classifier to make the predictions. We'll predict on the test set, and then write the predictions to a csv file for submission.</p>"
   ]
  },
  {
   "cell_type": "code",
   "execution_count": 11,
   "metadata": {
    "_uuid": "b3ca1c1802687ab5e165f0dfcbcc4e06a574604f"
   },
   "outputs": [
    {
     "name": "stdout",
     "output_type": "stream",
     "text": [
      "Done writing to csv\n"
     ]
    }
   ],
   "source": [
    "# Make predictions\n",
    "Xtest = all_data2.tail(ntest)\n",
    "#Xtest = test_df.drop(columns='RefId', axis='columns')\n",
    "predictions = grid_searches[0].predict(Xtest)\n",
    "\n",
    "# Write predictions to output csv\n",
    "pred_df = pd.DataFrame({'RefId': test_df['RefId'],\n",
    "                        'IsBadBuy': predictions})\n",
    "pred_df.to_csv('predictions.csv', index=False)\n",
    "\n",
    "print(\"Done writing to csv\")"
   ]
  },
  {
   "cell_type": "code",
   "execution_count": null,
   "metadata": {},
   "outputs": [],
   "source": []
  }
 ],
 "metadata": {
  "kernelspec": {
   "display_name": "Python 3",
   "language": "python",
   "name": "python3"
  },
  "language_info": {
   "codemirror_mode": {
    "name": "ipython",
    "version": 3
   },
   "file_extension": ".py",
   "mimetype": "text/x-python",
   "name": "python",
   "nbconvert_exporter": "python",
   "pygments_lexer": "ipython3",
   "version": "3.7.1"
  }
 },
 "nbformat": 4,
 "nbformat_minor": 1
}
